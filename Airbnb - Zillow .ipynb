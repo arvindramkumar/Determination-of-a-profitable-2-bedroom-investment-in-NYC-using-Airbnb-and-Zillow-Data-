{
 "cells": [
  {
   "cell_type": "markdown",
   "metadata": {},
   "source": [
    "# Airbnb and Zillow Data Challenge\n",
    "    "
   ]
  },
  {
   "cell_type": "markdown",
   "metadata": {},
   "source": [
    "### Arvind Ramkumar \n",
    "### Email - aramkum4@asu.edu\n",
    "### Phone - 480-(859)-2393"
   ]
  },
  {
   "cell_type": "markdown",
   "metadata": {},
   "source": [
    "#### I. Description \n",
    "        1. Problem Description and background\n",
    "        2. Basic Assumptions\n",
    "\n",
    "#### II. Data Preprocessing \n",
    "        1. Working with Airbnb Data \n",
    "        2. Working with Zillow Data \n",
    "\n",
    "#### III. Data Analysis\n",
    "        1. Number of Airbnb Properties in NYC \n",
    "        2. Number of Reviews Analysis \n",
    "        3. Cost Analysis \n",
    "        4. Revenue Analysis \n",
    "        5. Occupancy Rate Analysis \n",
    "        6. Review on Locations Analysis \n",
    "        7. Return of Investment (ROI) Analysis \n",
    "        8. One Percent Rule\n",
    "        9. Cumulating all Analysis\n",
    " \n",
    "#### IV. Conclusion and Recommendations \n",
    "#### V. Further Suggestions to Model Improvisation "
   ]
  },
  {
   "cell_type": "markdown",
   "metadata": {},
   "source": [
    "# I. Description "
   ]
  },
  {
   "cell_type": "markdown",
   "metadata": {},
   "source": [
    "Analysis to identify the zipcodes in NYC that are workthful in investing for rental properties with the aid of Airbnb and Zillow Data "
   ]
  },
  {
   "cell_type": "markdown",
   "metadata": {},
   "source": [
    "## I. 1 - Problem Description  and Background"
   ]
  },
  {
   "cell_type": "markdown",
   "metadata": {},
   "source": [
    "The investors are planning to buy properties in NYC and plan for short term rentals. They have already concluded that two bedroom flats are more profitable and we need to make analysis to suggest them on zipcodes that coude be more profitable and less risk "
   ]
  },
  {
   "cell_type": "markdown",
   "metadata": {},
   "source": [
    "## I. 2 - Assumptions "
   ]
  },
  {
   "cell_type": "markdown",
   "metadata": {},
   "source": [
    "Given Assumptions\n",
    "\n",
    "1. The investor will pay for the property in cash \n",
    "2. The time value of money discount rate is 0% \n",
    "3. All properties and all square feet within each locale can be assumed to be homogeneous \n",
    "\n",
    "Assumptions Taken\n",
    "\n",
    "1. The occupancy rate is taken from availability_360\n",
    "2. One night price is considered for analysis, considering that the monthly rate is given by (30* one night price) discounted at a constant rate \n",
    "3. Since, 2 bedrooms flats are known to be more profitable we consider only 2 bedroom flats \n",
    "4. The investor could acquire the property at the latest available cost, and here the acquiring cost is assumed to be the price at 2016 July \"2016-07\"\n",
    "5. Reviews that have missing data are given zero "
   ]
  },
  {
   "cell_type": "markdown",
   "metadata": {},
   "source": [
    "# Data Quality"
   ]
  },
  {
   "cell_type": "markdown",
   "metadata": {},
   "source": [
    "# II. Data Preprocessing "
   ]
  },
  {
   "cell_type": "markdown",
   "metadata": {},
   "source": [
    "Quality Check - Because Bad Data Is Worse Than No Data At All\n",
    "\n",
    "So, we look at the data, and consider the data that are necessary and bringing it to necessary format. "
   ]
  },
  {
   "cell_type": "markdown",
   "metadata": {},
   "source": [
    "#### Import Packages "
   ]
  },
  {
   "cell_type": "code",
   "execution_count": 214,
   "metadata": {},
   "outputs": [],
   "source": [
    "import pandas as pd \n",
    "import numpy as np \n",
    "\n",
    "import matplotlib.pyplot as plt\n",
    "import seaborn as sns"
   ]
  },
  {
   "cell_type": "markdown",
   "metadata": {},
   "source": [
    "#### Import Data Set "
   ]
  },
  {
   "cell_type": "code",
   "execution_count": 215,
   "metadata": {},
   "outputs": [
    {
     "name": "stderr",
     "output_type": "stream",
     "text": [
      "/Users/arvindramkumar/anaconda3/lib/python3.6/site-packages/IPython/core/interactiveshell.py:2785: DtypeWarning: Columns (43,88) have mixed types. Specify dtype option on import or set low_memory=False.\n",
      "  interactivity=interactivity, compiler=compiler, result=result)\n"
     ]
    }
   ],
   "source": [
    "airbnb = pd.read_csv(\"listings.csv\")\n",
    "zillow = pd.read_csv(\"Zip_Zhvi_2bedroom.csv\")"
   ]
  },
  {
   "cell_type": "markdown",
   "metadata": {},
   "source": [
    "## II. 1 - Working With Airbnb Data "
   ]
  },
  {
   "cell_type": "code",
   "execution_count": 216,
   "metadata": {},
   "outputs": [
    {
     "data": {
      "text/html": [
       "<div>\n",
       "<style scoped>\n",
       "    .dataframe tbody tr th:only-of-type {\n",
       "        vertical-align: middle;\n",
       "    }\n",
       "\n",
       "    .dataframe tbody tr th {\n",
       "        vertical-align: top;\n",
       "    }\n",
       "\n",
       "    .dataframe thead th {\n",
       "        text-align: right;\n",
       "    }\n",
       "</style>\n",
       "<table border=\"1\" class=\"dataframe\">\n",
       "  <thead>\n",
       "    <tr style=\"text-align: right;\">\n",
       "      <th></th>\n",
       "      <th>id</th>\n",
       "      <th>listing_url</th>\n",
       "      <th>scrape_id</th>\n",
       "      <th>last_scraped</th>\n",
       "      <th>name</th>\n",
       "      <th>summary</th>\n",
       "      <th>space</th>\n",
       "      <th>description</th>\n",
       "      <th>experiences_offered</th>\n",
       "      <th>neighborhood_overview</th>\n",
       "      <th>...</th>\n",
       "      <th>review_scores_value</th>\n",
       "      <th>requires_license</th>\n",
       "      <th>license</th>\n",
       "      <th>jurisdiction_names</th>\n",
       "      <th>instant_bookable</th>\n",
       "      <th>cancellation_policy</th>\n",
       "      <th>require_guest_profile_picture</th>\n",
       "      <th>require_guest_phone_verification</th>\n",
       "      <th>calculated_host_listings_count</th>\n",
       "      <th>reviews_per_month</th>\n",
       "    </tr>\n",
       "  </thead>\n",
       "  <tbody>\n",
       "    <tr>\n",
       "      <th>0</th>\n",
       "      <td>7949480</td>\n",
       "      <td>https://www.airbnb.com/rooms/7949480</td>\n",
       "      <td>2.017050e+13</td>\n",
       "      <td>5/3/2017</td>\n",
       "      <td>City Island Sanctuary relaxing BR &amp; Bath w Par...</td>\n",
       "      <td>Come relax on City Island in our quiet guest r...</td>\n",
       "      <td>On parle français et anglais, (lire Français c...</td>\n",
       "      <td>Come relax on City Island in our quiet guest r...</td>\n",
       "      <td>none</td>\n",
       "      <td>City Island is a unique sanctuary in New York ...</td>\n",
       "      <td>...</td>\n",
       "      <td>10.0</td>\n",
       "      <td>f</td>\n",
       "      <td>NaN</td>\n",
       "      <td>NaN</td>\n",
       "      <td>f</td>\n",
       "      <td>moderate</td>\n",
       "      <td>t</td>\n",
       "      <td>t</td>\n",
       "      <td>1</td>\n",
       "      <td>1.59</td>\n",
       "    </tr>\n",
       "    <tr>\n",
       "      <th>1</th>\n",
       "      <td>16042478</td>\n",
       "      <td>https://www.airbnb.com/rooms/16042478</td>\n",
       "      <td>2.017050e+13</td>\n",
       "      <td>5/4/2017</td>\n",
       "      <td>WATERFRONT STUDIO APARTMENT</td>\n",
       "      <td>My place is close to Sea Shore. You’ll love my...</td>\n",
       "      <td>(URL HIDDEN)</td>\n",
       "      <td>My place is close to Sea Shore. You’ll love my...</td>\n",
       "      <td>none</td>\n",
       "      <td>(URL HIDDEN)</td>\n",
       "      <td>...</td>\n",
       "      <td>NaN</td>\n",
       "      <td>f</td>\n",
       "      <td>NaN</td>\n",
       "      <td>NaN</td>\n",
       "      <td>t</td>\n",
       "      <td>flexible</td>\n",
       "      <td>f</td>\n",
       "      <td>f</td>\n",
       "      <td>1</td>\n",
       "      <td>NaN</td>\n",
       "    </tr>\n",
       "    <tr>\n",
       "      <th>2</th>\n",
       "      <td>1886820</td>\n",
       "      <td>https://www.airbnb.com/rooms/1886820</td>\n",
       "      <td>2.017050e+13</td>\n",
       "      <td>5/4/2017</td>\n",
       "      <td>Quaint City Island Community.</td>\n",
       "      <td>Quiet island  boating town on Long Island Soun...</td>\n",
       "      <td>Master bed with queen bed, full bath and offi...</td>\n",
       "      <td>Quiet island  boating town on Long Island Soun...</td>\n",
       "      <td>none</td>\n",
       "      <td>Small New England type town in the middle of ...</td>\n",
       "      <td>...</td>\n",
       "      <td>NaN</td>\n",
       "      <td>f</td>\n",
       "      <td>NaN</td>\n",
       "      <td>NaN</td>\n",
       "      <td>f</td>\n",
       "      <td>strict</td>\n",
       "      <td>f</td>\n",
       "      <td>f</td>\n",
       "      <td>1</td>\n",
       "      <td>NaN</td>\n",
       "    </tr>\n",
       "    <tr>\n",
       "      <th>3</th>\n",
       "      <td>6627449</td>\n",
       "      <td>https://www.airbnb.com/rooms/6627449</td>\n",
       "      <td>2.017050e+13</td>\n",
       "      <td>5/5/2017</td>\n",
       "      <td>Large 1 BDRM in Great location</td>\n",
       "      <td>This ground floor apartment is light and airy ...</td>\n",
       "      <td>We are close to fishing, boating, biking, hors...</td>\n",
       "      <td>This ground floor apartment is light and airy ...</td>\n",
       "      <td>none</td>\n",
       "      <td>City Island is a unique and a hidden gem of Ne...</td>\n",
       "      <td>...</td>\n",
       "      <td>10.0</td>\n",
       "      <td>f</td>\n",
       "      <td>NaN</td>\n",
       "      <td>NaN</td>\n",
       "      <td>f</td>\n",
       "      <td>strict</td>\n",
       "      <td>f</td>\n",
       "      <td>f</td>\n",
       "      <td>1</td>\n",
       "      <td>0.54</td>\n",
       "    </tr>\n",
       "    <tr>\n",
       "      <th>4</th>\n",
       "      <td>5557381</td>\n",
       "      <td>https://www.airbnb.com/rooms/5557381</td>\n",
       "      <td>2.017050e+13</td>\n",
       "      <td>5/4/2017</td>\n",
       "      <td>Quaint City Island Home</td>\n",
       "      <td>Located in an old sea-shanty town, our home ha...</td>\n",
       "      <td>You won't find a place so close to the city (N...</td>\n",
       "      <td>Located in an old sea-shanty town, our home ha...</td>\n",
       "      <td>none</td>\n",
       "      <td>City Island is unique in two ways. First, you ...</td>\n",
       "      <td>...</td>\n",
       "      <td>10.0</td>\n",
       "      <td>f</td>\n",
       "      <td>NaN</td>\n",
       "      <td>NaN</td>\n",
       "      <td>t</td>\n",
       "      <td>moderate</td>\n",
       "      <td>f</td>\n",
       "      <td>f</td>\n",
       "      <td>1</td>\n",
       "      <td>3.63</td>\n",
       "    </tr>\n",
       "  </tbody>\n",
       "</table>\n",
       "<p>5 rows × 95 columns</p>\n",
       "</div>"
      ],
      "text/plain": [
       "         id                            listing_url     scrape_id last_scraped  \\\n",
       "0   7949480   https://www.airbnb.com/rooms/7949480  2.017050e+13     5/3/2017   \n",
       "1  16042478  https://www.airbnb.com/rooms/16042478  2.017050e+13     5/4/2017   \n",
       "2   1886820   https://www.airbnb.com/rooms/1886820  2.017050e+13     5/4/2017   \n",
       "3   6627449   https://www.airbnb.com/rooms/6627449  2.017050e+13     5/5/2017   \n",
       "4   5557381   https://www.airbnb.com/rooms/5557381  2.017050e+13     5/4/2017   \n",
       "\n",
       "                                                name  \\\n",
       "0  City Island Sanctuary relaxing BR & Bath w Par...   \n",
       "1                        WATERFRONT STUDIO APARTMENT   \n",
       "2                     Quaint City Island Community.    \n",
       "3                     Large 1 BDRM in Great location   \n",
       "4                            Quaint City Island Home   \n",
       "\n",
       "                                             summary  \\\n",
       "0  Come relax on City Island in our quiet guest r...   \n",
       "1  My place is close to Sea Shore. You’ll love my...   \n",
       "2  Quiet island  boating town on Long Island Soun...   \n",
       "3  This ground floor apartment is light and airy ...   \n",
       "4  Located in an old sea-shanty town, our home ha...   \n",
       "\n",
       "                                               space  \\\n",
       "0  On parle français et anglais, (lire Français c...   \n",
       "1                                       (URL HIDDEN)   \n",
       "2   Master bed with queen bed, full bath and offi...   \n",
       "3  We are close to fishing, boating, biking, hors...   \n",
       "4  You won't find a place so close to the city (N...   \n",
       "\n",
       "                                         description experiences_offered  \\\n",
       "0  Come relax on City Island in our quiet guest r...                none   \n",
       "1  My place is close to Sea Shore. You’ll love my...                none   \n",
       "2  Quiet island  boating town on Long Island Soun...                none   \n",
       "3  This ground floor apartment is light and airy ...                none   \n",
       "4  Located in an old sea-shanty town, our home ha...                none   \n",
       "\n",
       "                               neighborhood_overview        ...          \\\n",
       "0  City Island is a unique sanctuary in New York ...        ...           \n",
       "1                                       (URL HIDDEN)        ...           \n",
       "2   Small New England type town in the middle of ...        ...           \n",
       "3  City Island is a unique and a hidden gem of Ne...        ...           \n",
       "4  City Island is unique in two ways. First, you ...        ...           \n",
       "\n",
       "  review_scores_value requires_license license jurisdiction_names  \\\n",
       "0                10.0                f     NaN                NaN   \n",
       "1                 NaN                f     NaN                NaN   \n",
       "2                 NaN                f     NaN                NaN   \n",
       "3                10.0                f     NaN                NaN   \n",
       "4                10.0                f     NaN                NaN   \n",
       "\n",
       "  instant_bookable cancellation_policy require_guest_profile_picture  \\\n",
       "0                f            moderate                             t   \n",
       "1                t            flexible                             f   \n",
       "2                f              strict                             f   \n",
       "3                f              strict                             f   \n",
       "4                t            moderate                             f   \n",
       "\n",
       "  require_guest_phone_verification calculated_host_listings_count  \\\n",
       "0                                t                              1   \n",
       "1                                f                              1   \n",
       "2                                f                              1   \n",
       "3                                f                              1   \n",
       "4                                f                              1   \n",
       "\n",
       "   reviews_per_month  \n",
       "0               1.59  \n",
       "1                NaN  \n",
       "2                NaN  \n",
       "3               0.54  \n",
       "4               3.63  \n",
       "\n",
       "[5 rows x 95 columns]"
      ]
     },
     "execution_count": 216,
     "metadata": {},
     "output_type": "execute_result"
    }
   ],
   "source": [
    "airbnb.head()"
   ]
  },
  {
   "cell_type": "code",
   "execution_count": 217,
   "metadata": {},
   "outputs": [
    {
     "data": {
      "text/plain": [
       "(40753, 95)"
      ]
     },
     "execution_count": 217,
     "metadata": {},
     "output_type": "execute_result"
    }
   ],
   "source": [
    "airbnb.shape"
   ]
  },
  {
   "cell_type": "code",
   "execution_count": 218,
   "metadata": {},
   "outputs": [
    {
     "data": {
      "text/plain": [
       "Index(['id', 'listing_url', 'scrape_id', 'last_scraped', 'name', 'summary',\n",
       "       'space', 'description', 'experiences_offered', 'neighborhood_overview',\n",
       "       'notes', 'transit', 'access', 'interaction', 'house_rules',\n",
       "       'thumbnail_url', 'medium_url', 'picture_url', 'xl_picture_url',\n",
       "       'host_id', 'host_url', 'host_name', 'host_since', 'host_location',\n",
       "       'host_about', 'host_response_time', 'host_response_rate',\n",
       "       'host_acceptance_rate', 'host_is_superhost', 'host_thumbnail_url',\n",
       "       'host_picture_url', 'host_neighbourhood', 'host_listings_count',\n",
       "       'host_total_listings_count', 'host_verifications',\n",
       "       'host_has_profile_pic', 'host_identity_verified', 'street',\n",
       "       'neighbourhood', 'neighbourhood_cleansed',\n",
       "       'neighbourhood_group_cleansed', 'city', 'state', 'zipcode', 'market',\n",
       "       'smart_location', 'country_code', 'country', 'latitude', 'longitude',\n",
       "       'is_location_exact', 'property_type', 'room_type', 'accommodates',\n",
       "       'bathrooms', 'bedrooms', 'beds', 'bed_type', 'amenities', 'square_feet',\n",
       "       'price', 'weekly_price', 'monthly_price', 'security_deposit',\n",
       "       'cleaning_fee', 'guests_included', 'extra_people', 'minimum_nights',\n",
       "       'maximum_nights', 'calendar_updated', 'has_availability',\n",
       "       'availability_30', 'availability_60', 'availability_90',\n",
       "       'availability_365', 'calendar_last_scraped', 'number_of_reviews',\n",
       "       'first_review', 'last_review', 'review_scores_rating',\n",
       "       'review_scores_accuracy', 'review_scores_cleanliness',\n",
       "       'review_scores_checkin', 'review_scores_communication',\n",
       "       'review_scores_location', 'review_scores_value', 'requires_license',\n",
       "       'license', 'jurisdiction_names', 'instant_bookable',\n",
       "       'cancellation_policy', 'require_guest_profile_picture',\n",
       "       'require_guest_phone_verification', 'calculated_host_listings_count',\n",
       "       'reviews_per_month'],\n",
       "      dtype='object')"
      ]
     },
     "execution_count": 218,
     "metadata": {},
     "output_type": "execute_result"
    }
   ],
   "source": [
    "airbnb.columns"
   ]
  },
  {
   "cell_type": "markdown",
   "metadata": {},
   "source": [
    "If we could look at the data of airbnb, it is really easy to categorize the parameters into a few genres, and they are \n",
    "\n",
    "    1. Data about the host \n",
    "    2. Data about the location \n",
    "    3. Data about the property \n",
    "    4. Data about the price \n",
    "    5. Data about the Reviews \n",
    "    6. Miscallenous Data \n",
    "    \n",
    "    \n",
    "Here, our motive is to determine which of these parameters will affect the cost in the zipcode. There might be numerous factor that could affect, but we need to consider the factors that will actually affect the result that we need. \n",
    "\n",
    "For example, some factors about the host might be affecting the price to a greater extent, but in our case, the company is going to buy a property and they themselves are going to rent it. So, even if the host acts as a factor, there is no point in analyzing that factor. \n",
    "\n"
   ]
  },
  {
   "cell_type": "markdown",
   "metadata": {},
   "source": [
    "#### Null Values in Airbnb Data"
   ]
  },
  {
   "cell_type": "code",
   "execution_count": 219,
   "metadata": {},
   "outputs": [
    {
     "data": {
      "text/plain": [
       "name                              35\n",
       "summary                         1615\n",
       "space                          12872\n",
       "description                       19\n",
       "neighborhood_overview          17124\n",
       "notes                          26146\n",
       "transit                        15293\n",
       "access                         17173\n",
       "interaction                    18276\n",
       "house_rules                    14834\n",
       "thumbnail_url                   8616\n",
       "medium_url                      8616\n",
       "xl_picture_url                  8616\n",
       "host_name                        251\n",
       "host_since                       251\n",
       "host_location                    416\n",
       "host_about                     15694\n",
       "host_response_time             13142\n",
       "host_response_rate             13142\n",
       "host_acceptance_rate           40753\n",
       "host_is_superhost                251\n",
       "host_thumbnail_url               251\n",
       "host_picture_url                 251\n",
       "host_neighbourhood              5194\n",
       "host_listings_count              251\n",
       "host_total_listings_count        251\n",
       "host_has_profile_pic             251\n",
       "host_identity_verified           251\n",
       "neighbourhood                   6005\n",
       "city                              44\n",
       "zipcode                          611\n",
       "market                           146\n",
       "bathrooms                        159\n",
       "bedrooms                          69\n",
       "beds                              79\n",
       "square_feet                    40186\n",
       "weekly_price                   31745\n",
       "monthly_price                  33341\n",
       "security_deposit               22960\n",
       "cleaning_fee                   12692\n",
       "has_availability               40753\n",
       "first_review                    9299\n",
       "last_review                     9185\n",
       "review_scores_rating            9924\n",
       "review_scores_accuracy         10017\n",
       "review_scores_cleanliness       9985\n",
       "review_scores_checkin          10036\n",
       "review_scores_communication     9986\n",
       "review_scores_location         10037\n",
       "review_scores_value            10039\n",
       "license                        40753\n",
       "jurisdiction_names             40745\n",
       "reviews_per_month               9299\n",
       "dtype: int64"
      ]
     },
     "execution_count": 219,
     "metadata": {},
     "output_type": "execute_result"
    }
   ],
   "source": [
    "null_columns=airbnb.columns[airbnb.isnull().any()]\n",
    "airbnb[null_columns].isnull().sum()"
   ]
  },
  {
   "cell_type": "code",
   "execution_count": 220,
   "metadata": {},
   "outputs": [
    {
     "data": {
      "text/plain": [
       "array(['10464', '10467', '10469', '10462', '11105', '11102', '11370',\n",
       "       '11106', nan, '11103', '11229', '10472', '10473', '11417', '11416',\n",
       "       '11421', '11419', '11418', '10457', '10458', '10468', '10460',\n",
       "       '11357', '10312', '10305', '11692', '11101', '11377', '10003',\n",
       "       '11103-3233', '11356', '11214', '11228', '11360', '11361', '11364',\n",
       "       '10280', '10006', '10282', '10004', '10012', '10005', '10033',\n",
       "       '11209', '11220', '10306', '11691', '11233', '11206', '11221',\n",
       "       '11205', '11216', '11238', '11211', '11213', '11237', '11226',\n",
       "       '11207', '10013', '11694', '11001', '11426', '11427', '11426-1175',\n",
       "       '11204', '11219', '11223', '11236', '11234', '11217', '11201',\n",
       "       '11232', '11218', '11210', '11435', '11432', '11235', '11224',\n",
       "       '11225', '11203', '11231', '10451', '10455', '10454', '11212',\n",
       "       '11249', '11385', '10026', '11411', '11413', '11429', '11412',\n",
       "       '10002', '10038', '10065', '11374', '11215', '10301', '10314',\n",
       "       '10011', '10001', '10010', '10014', '10018', '10119', '10036',\n",
       "       '10029', '10016', '10007', '10456', '10304', '10475', '10452',\n",
       "       '11368', '10465', '10453', '11208', '11362', '11363', '11369',\n",
       "       '11372', '10129', '10035', '10037', '10027', '10128', '10025',\n",
       "       '10030', '10028', '10019', '10459', '10308', '11373', '11379',\n",
       "       '10471', '10463', '11239', '10009', '10003-8623', '10466', '11423',\n",
       "       '10279', '10270', '10080', '10034', '10281', '11230', '11422',\n",
       "       '11355', '11367', '11354', '11358', '11365', '11366', 11355.0,\n",
       "       11354.0, 11365.0, 11358.0, 11367.0, 11366.0, 11435.0, 11361.0,\n",
       "       11217.0, 11231.0, 11215.0, 11201.0, 11375.0, 11374.0, 11205.0,\n",
       "       11238.0, 11209.0, 11220.0, 10010.0, 10003.0, 10001.0, 10009.0,\n",
       "       10011.0, 10016.0, 10021.0, 10303.0, 10306.0, 11432.0, 11004.0,\n",
       "       11385.0, 11223.0, 11214.0, 11230.0, 11229.0, 11218.0, 11226.0,\n",
       "       11415.0, 11418.0, 10308.0, 10312.0, 11222.0, 11211.0, 10012.0,\n",
       "       10014.0, 10002.0, 10013.0, 10304.0, 10301.0, 10031.0, 10035.0,\n",
       "       10027.0, 10037.0, 10039.0, 10026.0, 10030.0, 10032.0, 10025.0,\n",
       "       10029.0, 10033.0, 10036.0, 10019.0, 10018.0, 10022.0, 10000.0,\n",
       "       10024.0, 10023.0, 10452.0, 10456.0, 10040.0, 11412.0, 11423.0,\n",
       "       11427.0, 11364.0, 11414.0, 11417.0, 10474.0, 10034.0, 11372.0,\n",
       "       11368.0, 11373.0, 11370.0, 11369.0, 11434.0, 11436.0, 11413.0,\n",
       "       11433.0, 11420.0, 10461.0, 10463.0, 10468.0, 10471.0, 11362.0,\n",
       "       10459.0, 10451.0, 10017.0, '10017', '10022', '11104', '11109',\n",
       "       '10021', '10002-2289', '10023', '10106', '10118', '10303', '11378',\n",
       "       '10040', '10461', '11428', '10302', '10310', '11375', '11415',\n",
       "       '11420', '11385-2308', '11693', '10044', '7310', '5340', '11436',\n",
       "       '11434', '11433', '10111', '10307', '10075', '10162', '10024',\n",
       "       '10078', '10069', '10032', '1m', '10470', '10704', '10031',\n",
       "       '10039', '99135', '11222', '11249\\n11249', '11003', '11580',\n",
       "       '11581', '10705'], dtype=object)"
      ]
     },
     "execution_count": 220,
     "metadata": {},
     "output_type": "execute_result"
    }
   ],
   "source": [
    "airbnb.zipcode.unique()"
   ]
  },
  {
   "cell_type": "markdown",
   "metadata": {},
   "source": [
    "# Data Munging "
   ]
  },
  {
   "cell_type": "markdown",
   "metadata": {},
   "source": [
    "#### Converting Zipcode to Necessary format "
   ]
  },
  {
   "cell_type": "code",
   "execution_count": 221,
   "metadata": {},
   "outputs": [
    {
     "data": {
      "text/plain": [
       "array([10464, 10467, 10469, 10462, 11105, 11102, 11370, 11106, 11103,\n",
       "       11229, 10472, 10473, 11417, 11416, 11421, 11419, 11418, 10457,\n",
       "       10458, 10468, 10460, 11357, 10312, 10305, 11692, 11101, 11377,\n",
       "       10003, 11356, 11214, 11228, 11360, 11361, 11364, 10280, 10006,\n",
       "       10282, 10004, 10012, 10005, 10033, 11209, 11220, 10306, 11691,\n",
       "       11233, 11206, 11221, 11205, 11216, 11238, 11211, 11213, 11237,\n",
       "       11226, 11207, 10013, 11694, 11001, 11426, 11427, 11204, 11219,\n",
       "       11223, 11236, 11234, 11217, 11201, 11232, 11218, 11210, 11435,\n",
       "       11432, 11235, 11224, 11225, 11203, 11231, 10451, 10455, 10454,\n",
       "       11212, 11249, 11385, 10026, 11411, 11413, 11429, 11412, 10002,\n",
       "       10038, 10065, 11374, 11215, 10301, 10314, 10011, 10001, 10010,\n",
       "       10014, 10018, 10119, 10036, 10029, 10016, 10007, 10456, 10304,\n",
       "       10475, 10452, 11368, 10465, 10453, 11208, 11362, 11363, 11369,\n",
       "       11372, 10129, 10035, 10037, 10027, 10128, 10025, 10030, 10028,\n",
       "       10019, 10459, 10308, 11373, 11379, 10471, 10463, 11239, 10009,\n",
       "       10466, 11423, 10279, 10270, 10080, 10034, 10281, 11230, 11422,\n",
       "       11355, 11367, 11354, 11358, 11365, 11366, 10017, 10022, 11104,\n",
       "       11109, 10021, 10023, 10106, 10118, 10303, 11378, 10040, 10461,\n",
       "       11428, 10302, 10310, 11375, 11415, 11420, 11693, 10044, 11436,\n",
       "       11434, 11433, 10111, 10307, 10075, 10162, 10024, 10078, 10069,\n",
       "       10032, 10470, 10704, 10031, 10039, 11222, 11003, 11580, 11581,\n",
       "       10705])"
      ]
     },
     "execution_count": 221,
     "metadata": {},
     "output_type": "execute_result"
    }
   ],
   "source": [
    "#Remove Null Values\n",
    "airbnb = airbnb.dropna(subset=['zipcode'])\n",
    "\n",
    "#Convert all Zip to 5 digits \n",
    "airbnb['zipcode'] = airbnb['zipcode'].str[:5]\n",
    "\n",
    "#Dropping incorrect Zipcode\n",
    "airbnb = airbnb[airbnb.zipcode != '7310']\n",
    "airbnb = airbnb[airbnb.zipcode != '5340']\n",
    "airbnb = airbnb[airbnb.zipcode != '99135']\n",
    "airbnb = airbnb[airbnb.zipcode != '1m']\n",
    "\n",
    "#Convert Zipcode datatype to int\n",
    "airbnb['zipcode'] = pd.to_numeric(airbnb['zipcode'], errors='coerce')\n",
    "airbnb = airbnb.dropna(subset=['zipcode'])\n",
    "airbnb['zipcode'] = airbnb['zipcode'].astype(int)\n",
    "\n",
    "airbnb.zipcode.unique()"
   ]
  },
  {
   "cell_type": "markdown",
   "metadata": {},
   "source": [
    "#### Convert Price to necessary format  and Considering Only two bedroom apartments"
   ]
  },
  {
   "cell_type": "code",
   "execution_count": 222,
   "metadata": {},
   "outputs": [],
   "source": [
    "# Converting Price\n",
    "airbnb['price'] = airbnb['price'].replace( '[\\$,)]','', regex=True ).astype(float)\n",
    "\n",
    "# Considering 2 Bedrooms \n",
    "airbnb = airbnb.loc[airbnb['bedrooms'] == 2]"
   ]
  },
  {
   "cell_type": "markdown",
   "metadata": {},
   "source": [
    "## II. 2 - Working With Zillow Data  "
   ]
  },
  {
   "cell_type": "code",
   "execution_count": 223,
   "metadata": {},
   "outputs": [
    {
     "data": {
      "text/html": [
       "<div>\n",
       "<style scoped>\n",
       "    .dataframe tbody tr th:only-of-type {\n",
       "        vertical-align: middle;\n",
       "    }\n",
       "\n",
       "    .dataframe tbody tr th {\n",
       "        vertical-align: top;\n",
       "    }\n",
       "\n",
       "    .dataframe thead th {\n",
       "        text-align: right;\n",
       "    }\n",
       "</style>\n",
       "<table border=\"1\" class=\"dataframe\">\n",
       "  <thead>\n",
       "    <tr style=\"text-align: right;\">\n",
       "      <th></th>\n",
       "      <th>RegionID</th>\n",
       "      <th>RegionName</th>\n",
       "      <th>City</th>\n",
       "      <th>State</th>\n",
       "      <th>Metro</th>\n",
       "      <th>CountyName</th>\n",
       "      <th>SizeRank</th>\n",
       "      <th>1996-04</th>\n",
       "      <th>1996-05</th>\n",
       "      <th>1996-06</th>\n",
       "      <th>...</th>\n",
       "      <th>2016-09</th>\n",
       "      <th>2016-10</th>\n",
       "      <th>2016-11</th>\n",
       "      <th>2016-12</th>\n",
       "      <th>2017-01</th>\n",
       "      <th>2017-02</th>\n",
       "      <th>2017-03</th>\n",
       "      <th>2017-04</th>\n",
       "      <th>2017-05</th>\n",
       "      <th>2017-06</th>\n",
       "    </tr>\n",
       "  </thead>\n",
       "  <tbody>\n",
       "    <tr>\n",
       "      <th>0</th>\n",
       "      <td>61639</td>\n",
       "      <td>10025</td>\n",
       "      <td>New York</td>\n",
       "      <td>NY</td>\n",
       "      <td>New York</td>\n",
       "      <td>New York</td>\n",
       "      <td>1</td>\n",
       "      <td>NaN</td>\n",
       "      <td>NaN</td>\n",
       "      <td>NaN</td>\n",
       "      <td>...</td>\n",
       "      <td>1374400</td>\n",
       "      <td>1364100</td>\n",
       "      <td>1366300</td>\n",
       "      <td>1354800.0</td>\n",
       "      <td>1327500</td>\n",
       "      <td>1317300</td>\n",
       "      <td>1333700</td>\n",
       "      <td>1352100</td>\n",
       "      <td>1390000</td>\n",
       "      <td>1431000</td>\n",
       "    </tr>\n",
       "    <tr>\n",
       "      <th>1</th>\n",
       "      <td>84654</td>\n",
       "      <td>60657</td>\n",
       "      <td>Chicago</td>\n",
       "      <td>IL</td>\n",
       "      <td>Chicago</td>\n",
       "      <td>Cook</td>\n",
       "      <td>2</td>\n",
       "      <td>167700.0</td>\n",
       "      <td>166400.0</td>\n",
       "      <td>166700.0</td>\n",
       "      <td>...</td>\n",
       "      <td>368600</td>\n",
       "      <td>370200</td>\n",
       "      <td>372300</td>\n",
       "      <td>375300.0</td>\n",
       "      <td>378700</td>\n",
       "      <td>381400</td>\n",
       "      <td>381800</td>\n",
       "      <td>382100</td>\n",
       "      <td>383300</td>\n",
       "      <td>385100</td>\n",
       "    </tr>\n",
       "    <tr>\n",
       "      <th>2</th>\n",
       "      <td>61637</td>\n",
       "      <td>10023</td>\n",
       "      <td>New York</td>\n",
       "      <td>NY</td>\n",
       "      <td>New York</td>\n",
       "      <td>New York</td>\n",
       "      <td>3</td>\n",
       "      <td>NaN</td>\n",
       "      <td>NaN</td>\n",
       "      <td>NaN</td>\n",
       "      <td>...</td>\n",
       "      <td>1993500</td>\n",
       "      <td>1980700</td>\n",
       "      <td>1960900</td>\n",
       "      <td>1951300.0</td>\n",
       "      <td>1937800</td>\n",
       "      <td>1929800</td>\n",
       "      <td>1955000</td>\n",
       "      <td>2022400</td>\n",
       "      <td>2095000</td>\n",
       "      <td>2142300</td>\n",
       "    </tr>\n",
       "    <tr>\n",
       "      <th>3</th>\n",
       "      <td>84616</td>\n",
       "      <td>60614</td>\n",
       "      <td>Chicago</td>\n",
       "      <td>IL</td>\n",
       "      <td>Chicago</td>\n",
       "      <td>Cook</td>\n",
       "      <td>4</td>\n",
       "      <td>195800.0</td>\n",
       "      <td>193500.0</td>\n",
       "      <td>192600.0</td>\n",
       "      <td>...</td>\n",
       "      <td>398900</td>\n",
       "      <td>401200</td>\n",
       "      <td>403200</td>\n",
       "      <td>405700.0</td>\n",
       "      <td>408300</td>\n",
       "      <td>408800</td>\n",
       "      <td>408000</td>\n",
       "      <td>410100</td>\n",
       "      <td>412200</td>\n",
       "      <td>412200</td>\n",
       "    </tr>\n",
       "    <tr>\n",
       "      <th>4</th>\n",
       "      <td>93144</td>\n",
       "      <td>79936</td>\n",
       "      <td>El Paso</td>\n",
       "      <td>TX</td>\n",
       "      <td>El Paso</td>\n",
       "      <td>El Paso</td>\n",
       "      <td>5</td>\n",
       "      <td>59100.0</td>\n",
       "      <td>60500.0</td>\n",
       "      <td>60900.0</td>\n",
       "      <td>...</td>\n",
       "      <td>82400</td>\n",
       "      <td>82300</td>\n",
       "      <td>82400</td>\n",
       "      <td>82300.0</td>\n",
       "      <td>82500</td>\n",
       "      <td>83200</td>\n",
       "      <td>83900</td>\n",
       "      <td>84100</td>\n",
       "      <td>83900</td>\n",
       "      <td>83700</td>\n",
       "    </tr>\n",
       "  </tbody>\n",
       "</table>\n",
       "<p>5 rows × 262 columns</p>\n",
       "</div>"
      ],
      "text/plain": [
       "   RegionID  RegionName      City State     Metro CountyName  SizeRank  \\\n",
       "0     61639       10025  New York    NY  New York   New York         1   \n",
       "1     84654       60657   Chicago    IL   Chicago       Cook         2   \n",
       "2     61637       10023  New York    NY  New York   New York         3   \n",
       "3     84616       60614   Chicago    IL   Chicago       Cook         4   \n",
       "4     93144       79936   El Paso    TX   El Paso    El Paso         5   \n",
       "\n",
       "    1996-04   1996-05   1996-06   ...     2016-09  2016-10  2016-11  \\\n",
       "0       NaN       NaN       NaN   ...     1374400  1364100  1366300   \n",
       "1  167700.0  166400.0  166700.0   ...      368600   370200   372300   \n",
       "2       NaN       NaN       NaN   ...     1993500  1980700  1960900   \n",
       "3  195800.0  193500.0  192600.0   ...      398900   401200   403200   \n",
       "4   59100.0   60500.0   60900.0   ...       82400    82300    82400   \n",
       "\n",
       "     2016-12  2017-01  2017-02  2017-03  2017-04  2017-05  2017-06  \n",
       "0  1354800.0  1327500  1317300  1333700  1352100  1390000  1431000  \n",
       "1   375300.0   378700   381400   381800   382100   383300   385100  \n",
       "2  1951300.0  1937800  1929800  1955000  2022400  2095000  2142300  \n",
       "3   405700.0   408300   408800   408000   410100   412200   412200  \n",
       "4    82300.0    82500    83200    83900    84100    83900    83700  \n",
       "\n",
       "[5 rows x 262 columns]"
      ]
     },
     "execution_count": 223,
     "metadata": {},
     "output_type": "execute_result"
    }
   ],
   "source": [
    "zillow.head()"
   ]
  },
  {
   "cell_type": "code",
   "execution_count": 224,
   "metadata": {},
   "outputs": [
    {
     "data": {
      "text/plain": [
       "(8946, 262)"
      ]
     },
     "execution_count": 224,
     "metadata": {},
     "output_type": "execute_result"
    }
   ],
   "source": [
    "zillow.shape"
   ]
  },
  {
   "cell_type": "markdown",
   "metadata": {},
   "source": [
    "#### Considering only zipcode from NY and converting Region Name to necessary format "
   ]
  },
  {
   "cell_type": "code",
   "execution_count": 225,
   "metadata": {},
   "outputs": [],
   "source": [
    "# Convert Region name to zipcode  \n",
    "zillow.rename(columns={'RegionName':'zipcode'}, inplace=True)\n",
    "\n",
    "# Considering zipcode corresponding to Newyork \n",
    "zillow = zillow.loc[zillow['City'] == 'New York']\n",
    "\n",
    "# Converting zipcode to necessary data type\n",
    "zillow['zipcode'] = zillow['zipcode'].astype(int)"
   ]
  },
  {
   "cell_type": "markdown",
   "metadata": {},
   "source": [
    "#### Data Quality Insights  "
   ]
  },
  {
   "cell_type": "markdown",
   "metadata": {},
   "source": [
    "1. The Main thing that we are considered is the zipcode, price and the cost and there aren't any missing data is price and cost. And relatively a very few missing data in zipcode which could be replaced by latitude and longitude, which suggests that the data has a better quality\n",
    "\n",
    "2. There is so much data about the host, and we could run so much of NLP or sentimental analysis on the host to determine the influence of host on the occupancy. So, we have got abundance of data \n",
    "\n",
    "3. Almost everytime, there is an option for finding out parameters that are not given, but are required for us like the occupancy rate and ROI (Discussed later). So, the quality of the data is excellent and it is upto us to extract the data "
   ]
  },
  {
   "cell_type": "markdown",
   "metadata": {},
   "source": [
    "#### Merging both zillow and airbnb data for further analysis"
   ]
  },
  {
   "cell_type": "code",
   "execution_count": 226,
   "metadata": {},
   "outputs": [
    {
     "data": {
      "text/html": [
       "<div>\n",
       "<style scoped>\n",
       "    .dataframe tbody tr th:only-of-type {\n",
       "        vertical-align: middle;\n",
       "    }\n",
       "\n",
       "    .dataframe tbody tr th {\n",
       "        vertical-align: top;\n",
       "    }\n",
       "\n",
       "    .dataframe thead th {\n",
       "        text-align: right;\n",
       "    }\n",
       "</style>\n",
       "<table border=\"1\" class=\"dataframe\">\n",
       "  <thead>\n",
       "    <tr style=\"text-align: right;\">\n",
       "      <th></th>\n",
       "      <th>id</th>\n",
       "      <th>listing_url</th>\n",
       "      <th>scrape_id</th>\n",
       "      <th>last_scraped</th>\n",
       "      <th>name</th>\n",
       "      <th>summary</th>\n",
       "      <th>space</th>\n",
       "      <th>description</th>\n",
       "      <th>experiences_offered</th>\n",
       "      <th>neighborhood_overview</th>\n",
       "      <th>...</th>\n",
       "      <th>2016-09</th>\n",
       "      <th>2016-10</th>\n",
       "      <th>2016-11</th>\n",
       "      <th>2016-12</th>\n",
       "      <th>2017-01</th>\n",
       "      <th>2017-02</th>\n",
       "      <th>2017-03</th>\n",
       "      <th>2017-04</th>\n",
       "      <th>2017-05</th>\n",
       "      <th>2017-06</th>\n",
       "    </tr>\n",
       "  </thead>\n",
       "  <tbody>\n",
       "    <tr>\n",
       "      <th>0</th>\n",
       "      <td>15910991</td>\n",
       "      <td>https://www.airbnb.com/rooms/15910991</td>\n",
       "      <td>2.017050e+13</td>\n",
       "      <td>5/3/2017</td>\n",
       "      <td>House</td>\n",
       "      <td>Рядом с моим жильем Seaside Restaurant. Вам по...</td>\n",
       "      <td>NaN</td>\n",
       "      <td>Рядом с моим жильем Seaside Restaurant. Вам по...</td>\n",
       "      <td>none</td>\n",
       "      <td>NaN</td>\n",
       "      <td>...</td>\n",
       "      <td>373500</td>\n",
       "      <td>378600</td>\n",
       "      <td>382700</td>\n",
       "      <td>385300.0</td>\n",
       "      <td>387900</td>\n",
       "      <td>394500</td>\n",
       "      <td>403800</td>\n",
       "      <td>412000</td>\n",
       "      <td>418900</td>\n",
       "      <td>425100</td>\n",
       "    </tr>\n",
       "    <tr>\n",
       "      <th>1</th>\n",
       "      <td>17716523</td>\n",
       "      <td>https://www.airbnb.com/rooms/17716523</td>\n",
       "      <td>2.017050e+13</td>\n",
       "      <td>5/3/2017</td>\n",
       "      <td>20 Minutes from Manhattan Apartment by South B...</td>\n",
       "      <td>Renovated House 2 blocks from the Beach with  ...</td>\n",
       "      <td>My place has a big Eat in Kitchen , Living roo...</td>\n",
       "      <td>Renovated House 2 blocks from the Beach with  ...</td>\n",
       "      <td>none</td>\n",
       "      <td>South Beach is a quiet area in New York, yet c...</td>\n",
       "      <td>...</td>\n",
       "      <td>373500</td>\n",
       "      <td>378600</td>\n",
       "      <td>382700</td>\n",
       "      <td>385300.0</td>\n",
       "      <td>387900</td>\n",
       "      <td>394500</td>\n",
       "      <td>403800</td>\n",
       "      <td>412000</td>\n",
       "      <td>418900</td>\n",
       "      <td>425100</td>\n",
       "    </tr>\n",
       "    <tr>\n",
       "      <th>2</th>\n",
       "      <td>16155769</td>\n",
       "      <td>https://www.airbnb.com/rooms/16155769</td>\n",
       "      <td>2.017050e+13</td>\n",
       "      <td>5/5/2017</td>\n",
       "      <td>Manhattan and nature - all close ..</td>\n",
       "      <td>Our house is situated in a quiet location five...</td>\n",
       "      <td>NaN</td>\n",
       "      <td>Our house is situated in a quiet location five...</td>\n",
       "      <td>none</td>\n",
       "      <td>We are pleased to invite you to our charming, ...</td>\n",
       "      <td>...</td>\n",
       "      <td>373500</td>\n",
       "      <td>378600</td>\n",
       "      <td>382700</td>\n",
       "      <td>385300.0</td>\n",
       "      <td>387900</td>\n",
       "      <td>394500</td>\n",
       "      <td>403800</td>\n",
       "      <td>412000</td>\n",
       "      <td>418900</td>\n",
       "      <td>425100</td>\n",
       "    </tr>\n",
       "    <tr>\n",
       "      <th>3</th>\n",
       "      <td>13370393</td>\n",
       "      <td>https://www.airbnb.com/rooms/13370393</td>\n",
       "      <td>2.017050e+13</td>\n",
       "      <td>5/2/2017</td>\n",
       "      <td>Charming.</td>\n",
       "      <td>My place is close to public transport, parks, ...</td>\n",
       "      <td>NaN</td>\n",
       "      <td>My place is close to public transport, parks, ...</td>\n",
       "      <td>none</td>\n",
       "      <td>NaN</td>\n",
       "      <td>...</td>\n",
       "      <td>373500</td>\n",
       "      <td>378600</td>\n",
       "      <td>382700</td>\n",
       "      <td>385300.0</td>\n",
       "      <td>387900</td>\n",
       "      <td>394500</td>\n",
       "      <td>403800</td>\n",
       "      <td>412000</td>\n",
       "      <td>418900</td>\n",
       "      <td>425100</td>\n",
       "    </tr>\n",
       "    <tr>\n",
       "      <th>4</th>\n",
       "      <td>2611458</td>\n",
       "      <td>https://www.airbnb.com/rooms/2611458</td>\n",
       "      <td>2.017050e+13</td>\n",
       "      <td>5/4/2017</td>\n",
       "      <td>close to Manhattan country setting</td>\n",
       "      <td>Public trans. 30 min to Manhattan. Residential...</td>\n",
       "      <td>The apartment has a kitchen. Laundry room avai...</td>\n",
       "      <td>Public trans. 30 min to Manhattan. Residential...</td>\n",
       "      <td>none</td>\n",
       "      <td>Great residential neighborhood with shopping w...</td>\n",
       "      <td>...</td>\n",
       "      <td>373500</td>\n",
       "      <td>378600</td>\n",
       "      <td>382700</td>\n",
       "      <td>385300.0</td>\n",
       "      <td>387900</td>\n",
       "      <td>394500</td>\n",
       "      <td>403800</td>\n",
       "      <td>412000</td>\n",
       "      <td>418900</td>\n",
       "      <td>425100</td>\n",
       "    </tr>\n",
       "  </tbody>\n",
       "</table>\n",
       "<p>5 rows × 356 columns</p>\n",
       "</div>"
      ],
      "text/plain": [
       "         id                            listing_url     scrape_id last_scraped  \\\n",
       "0  15910991  https://www.airbnb.com/rooms/15910991  2.017050e+13     5/3/2017   \n",
       "1  17716523  https://www.airbnb.com/rooms/17716523  2.017050e+13     5/3/2017   \n",
       "2  16155769  https://www.airbnb.com/rooms/16155769  2.017050e+13     5/5/2017   \n",
       "3  13370393  https://www.airbnb.com/rooms/13370393  2.017050e+13     5/2/2017   \n",
       "4   2611458   https://www.airbnb.com/rooms/2611458  2.017050e+13     5/4/2017   \n",
       "\n",
       "                                                name  \\\n",
       "0                                              House   \n",
       "1  20 Minutes from Manhattan Apartment by South B...   \n",
       "2                Manhattan and nature - all close ..   \n",
       "3                                          Charming.   \n",
       "4                 close to Manhattan country setting   \n",
       "\n",
       "                                             summary  \\\n",
       "0  Рядом с моим жильем Seaside Restaurant. Вам по...   \n",
       "1  Renovated House 2 blocks from the Beach with  ...   \n",
       "2  Our house is situated in a quiet location five...   \n",
       "3  My place is close to public transport, parks, ...   \n",
       "4  Public trans. 30 min to Manhattan. Residential...   \n",
       "\n",
       "                                               space  \\\n",
       "0                                                NaN   \n",
       "1  My place has a big Eat in Kitchen , Living roo...   \n",
       "2                                                NaN   \n",
       "3                                                NaN   \n",
       "4  The apartment has a kitchen. Laundry room avai...   \n",
       "\n",
       "                                         description experiences_offered  \\\n",
       "0  Рядом с моим жильем Seaside Restaurant. Вам по...                none   \n",
       "1  Renovated House 2 blocks from the Beach with  ...                none   \n",
       "2  Our house is situated in a quiet location five...                none   \n",
       "3  My place is close to public transport, parks, ...                none   \n",
       "4  Public trans. 30 min to Manhattan. Residential...                none   \n",
       "\n",
       "                               neighborhood_overview   ...    2016-09 2016-10  \\\n",
       "0                                                NaN   ...     373500  378600   \n",
       "1  South Beach is a quiet area in New York, yet c...   ...     373500  378600   \n",
       "2  We are pleased to invite you to our charming, ...   ...     373500  378600   \n",
       "3                                                NaN   ...     373500  378600   \n",
       "4  Great residential neighborhood with shopping w...   ...     373500  378600   \n",
       "\n",
       "  2016-11   2016-12 2017-01 2017-02 2017-03 2017-04 2017-05  2017-06  \n",
       "0  382700  385300.0  387900  394500  403800  412000  418900   425100  \n",
       "1  382700  385300.0  387900  394500  403800  412000  418900   425100  \n",
       "2  382700  385300.0  387900  394500  403800  412000  418900   425100  \n",
       "3  382700  385300.0  387900  394500  403800  412000  418900   425100  \n",
       "4  382700  385300.0  387900  394500  403800  412000  418900   425100  \n",
       "\n",
       "[5 rows x 356 columns]"
      ]
     },
     "execution_count": 226,
     "metadata": {},
     "output_type": "execute_result"
    }
   ],
   "source": [
    "result = pd.merge(airbnb,\n",
    "                 zillow,\n",
    "                 on='zipcode')\n",
    "result.head()"
   ]
  },
  {
   "cell_type": "markdown",
   "metadata": {},
   "source": [
    "# Crafting a Visual Data Narrative"
   ]
  },
  {
   "cell_type": "markdown",
   "metadata": {},
   "source": [
    "# III. Data Analysis "
   ]
  },
  {
   "cell_type": "markdown",
   "metadata": {},
   "source": [
    "## III. 1 - Number of Airbnb Properites in NYC "
   ]
  },
  {
   "cell_type": "markdown",
   "metadata": {},
   "source": [
    "This gives us a visual image to think about how many number of properties are located in NYC (2 bedroom) under Airbnb. This will give us a heads up in deciding on where to make the purchase. \n",
    "\n",
    "There could be two interpretation \n",
    "\n",
    "1. Invest where no one has and venture (High Risk, yet could be more profitable)\n",
    "2. Invest where every one has already done (Could be sophisticated with less risk and profitable and uncertain of how high the profit) "
   ]
  },
  {
   "cell_type": "code",
   "execution_count": 227,
   "metadata": {},
   "outputs": [
    {
     "data": {
      "image/png": "[encoded data removed]",
      "text/plain": [
       "<Figure size 1440x720 with 1 Axes>"
      ]
     },
     "metadata": {},
     "output_type": "display_data"
    }
   ],
   "source": [
    "fig, ax= plt.subplots(figsize=(20,10))\n",
    "propcountfig = sns.countplot(x='zipcode',hue='neighbourhood_group_cleansed', data =result)\n",
    "sns.set(style=\"whitegrid\")\n",
    "plt.xlabel(\"Zipcode\")\n",
    "plt.ylabel(\"Total Number of Properties\")\n",
    "plt.title(\"Number of Airbnb Properties in NYC Zipcodes\")\n",
    "plt.show(propcountfig)"
   ]
  },
  {
   "cell_type": "markdown",
   "metadata": {},
   "source": [
    "#### Occupancy Rate "
   ]
  },
  {
   "cell_type": "markdown",
   "metadata": {},
   "source": [
    "Although it is given that we can assume the occupancy rate to be 75%, generalizing it would be not that accurate and it is obvious that not all property will have the same occupancy rate. \n",
    "\n",
    "So, with the available data, there are multiple ways that could be used to model the Occupancy Rate, like using the total number of reviews in a zip code to give the occupancy rate. \n",
    "\n",
    "But here, I have used the \"availability_365\" data to define the occupancy rate. It is logical that, if the house is available for the 365 days, then the occupancy is almost zero, and on the contrary, if the house is occupied for all 365 days, then the occupancy rate should be equlat to 100%. So, \n",
    "\n",
    "Occupancy Rate = (1 - (Number of days the house is available in next 365 days/ 365)"
   ]
  },
  {
   "cell_type": "code",
   "execution_count": 228,
   "metadata": {},
   "outputs": [],
   "source": [
    "result['occupancyrate']= (1- (result['availability_365']/365))"
   ]
  },
  {
   "cell_type": "markdown",
   "metadata": {},
   "source": [
    "## III. 2 - Number of reviews Analysis "
   ]
  },
  {
   "cell_type": "markdown",
   "metadata": {},
   "source": [
    "With a number of factors affecting, the number of reviews might as well play an important role in determining whether or not invest in a property. \n",
    "\n",
    "There are multiple number of properties in each zipcode and there are number of reviews for each of these properties. So, if we could sum up the reviews given in each of the property for a given zip code, it is possible to obtain the total number of reviews per zipcode. \n",
    "\n",
    "Higher the number of reviews is more desirable. "
   ]
  },
  {
   "cell_type": "code",
   "execution_count": 229,
   "metadata": {},
   "outputs": [],
   "source": [
    "# Groupby zipcode\n",
    "review=result.groupby('zipcode')\n",
    "\n",
    "# Taking the Sum of the total reviews \n",
    "reviews=review[['number_of_reviews']].sum()\n",
    "\n",
    "# Setting Index\n",
    "reviews=reviews.reset_index()\n",
    "\n",
    "# Merging with Main file \n",
    "result = reviews.merge(result, how='left', on='zipcode')"
   ]
  },
  {
   "cell_type": "code",
   "execution_count": 230,
   "metadata": {},
   "outputs": [
    {
     "data": {
      "image/png": "[encoded data removed]",
      "text/plain": [
       "<Figure size 1440x720 with 1 Axes>"
      ]
     },
     "metadata": {},
     "output_type": "display_data"
    }
   ],
   "source": [
    "fig, ax= plt.subplots(figsize=(20,10))\n",
    "noofreviewsfig = sns.barplot(x='zipcode',y='number_of_reviews_x',hue='neighbourhood_group_cleansed', data =result)\n",
    "sns.set(style=\"whitegrid\")\n",
    "plt.xlabel(\"Zipcode\")\n",
    "plt.ylabel(\"Total Number of reviews\")\n",
    "plt.title(\"Number of review Analysis\")\n",
    "plt.show(noofreviewsfig)"
   ]
  },
  {
   "cell_type": "markdown",
   "metadata": {},
   "source": [
    "#### Obtaining Averages "
   ]
  },
  {
   "cell_type": "markdown",
   "metadata": {},
   "source": [
    "As mentioned above, there are multiple properties under the same zipcode and it is necessary that we need to aggregate it for the measure for one zipcode. The aggregation is assumed to be mean, because the mean is a better estimate in this case. \n",
    "\n",
    "The factors that I think that might work are given below. \n",
    "\n",
    "    1. Price for One Night (Higher the better) \n",
    "    2. Acquiring Cost (Lower the better)\n",
    "    3. Reviews of the location given by customer (Higher the better)\n",
    "    4. Occupancy Rate (Higher the better)\n",
    "    5. ROI (Higher the better)R"
   ]
  },
  {
   "cell_type": "code",
   "execution_count": 231,
   "metadata": {},
   "outputs": [],
   "source": [
    "# Groupby zipcode\n",
    "average=result.groupby('zipcode')\n",
    "\n",
    "# Taking the mean of Price, Cost, Review Score, ROI and Occupancy Rate \n",
    "averagevalues=average[['price','2017-06','review_scores_location','occupancyrate']].mean()\n",
    "\n",
    "# Setting Index\n",
    "averagevalues=averagevalues.reset_index()\n",
    "\n",
    "# Replace zero to all null values\n",
    "averagevalues = averagevalues.fillna(0)\n",
    "\n",
    "# Merging with Main file \n",
    "result = averagevalues.merge(result, how='left', on='zipcode')"
   ]
  },
  {
   "cell_type": "markdown",
   "metadata": {},
   "source": [
    "#### Check Whether Occupancy Rate and Number of Reviews are correlated "
   ]
  },
  {
   "cell_type": "markdown",
   "metadata": {},
   "source": [
    "There are high chances that the Occupancy rate and the number of reviews might be correlated. Because more the people stay, the more the number of reviews. \n",
    "\n",
    "If they are correlated then, having to work on both these parameters together, will create the problem of multicollinearity. So, we check their correlation. "
   ]
  },
  {
   "cell_type": "code",
   "execution_count": 232,
   "metadata": {},
   "outputs": [
    {
     "data": {
      "text/plain": [
       "-0.021898460321601854"
      ]
     },
     "execution_count": 232,
     "metadata": {},
     "output_type": "execute_result"
    }
   ],
   "source": [
    "result['occupancyrate_x'].corr(result['number_of_reviews_x'])"
   ]
  },
  {
   "cell_type": "markdown",
   "metadata": {},
   "source": [
    "The Occupancy Rate is just 2% Correlated with the Number of reviews. So, we can have both as a measure. "
   ]
  },
  {
   "cell_type": "markdown",
   "metadata": {},
   "source": [
    "## II. 3 - Cost Analysis  "
   ]
  },
  {
   "cell_type": "code",
   "execution_count": 233,
   "metadata": {},
   "outputs": [
    {
     "data": {
      "image/png": "[encoded data removed]",
      "text/plain": [
       "<Figure size 1440x720 with 1 Axes>"
      ]
     },
     "metadata": {},
     "output_type": "display_data"
    }
   ],
   "source": [
    "fig, ax= plt.subplots(figsize=(20,10))\n",
    "costfig = sns.barplot(x='zipcode',y='2017-06_x',hue='neighbourhood_group_cleansed', data =result)\n",
    "sns.set(style=\"whitegrid\")\n",
    "plt.xlabel(\"Zipcode\")\n",
    "plt.ylabel(\"Purchasing Cost\")\n",
    "plt.title(\"Purchasing Cost Analysis\")\n",
    "plt.show(costfig)"
   ]
  },
  {
   "cell_type": "markdown",
   "metadata": {},
   "source": [
    "\n",
    "## II. 4 - Revenue Analysis  "
   ]
  },
  {
   "cell_type": "code",
   "execution_count": 234,
   "metadata": {},
   "outputs": [
    {
     "data": {
      "image/png": "[encoded data removed]",
      "text/plain": [
       "<Figure size 1440x720 with 1 Axes>"
      ]
     },
     "metadata": {},
     "output_type": "display_data"
    }
   ],
   "source": [
    "fig, ax= plt.subplots(figsize=(20,10))\n",
    "revenuefig = sns.barplot(x='zipcode',y='price_x',hue='neighbourhood_group_cleansed', data =result)\n",
    "sns.set(style=\"whitegrid\")\n",
    "plt.xlabel(\"Zipcode\")\n",
    "plt.ylabel(\"Revenue Cost\")\n",
    "plt.title(\"Revenue Per Night Analysis\")\n",
    "plt.show(revenuefig)"
   ]
  },
  {
   "cell_type": "markdown",
   "metadata": {},
   "source": [
    "\n",
    "\n",
    "## II. 5 - Occupancy Rate Analysis  "
   ]
  },
  {
   "cell_type": "code",
   "execution_count": 235,
   "metadata": {},
   "outputs": [
    {
     "data": {
      "image/png": "[encoded data removed]",
      "text/plain": [
       "<Figure size 1440x720 with 1 Axes>"
      ]
     },
     "metadata": {},
     "output_type": "display_data"
    }
   ],
   "source": [
    "fig, ax= plt.subplots(figsize=(20,10))\n",
    "occupancyfig = sns.barplot(x='zipcode',y='occupancyrate_x',hue='neighbourhood_group_cleansed', data =result\n",
    "                          )\n",
    "sns.set(style=\"whitegrid\")\n",
    "plt.xlabel(\"Zipcode\")\n",
    "plt.ylabel(\"Occupancy Rate\")\n",
    "plt.title(\"Occupancy Rate Analysis\")\n",
    "plt.show(occupancyfig)"
   ]
  },
  {
   "cell_type": "markdown",
   "metadata": {},
   "source": [
    "## II. 6 - Review on Location Analysis "
   ]
  },
  {
   "cell_type": "code",
   "execution_count": 236,
   "metadata": {},
   "outputs": [
    {
     "data": {
      "image/png": "[encoded data removed]",
      "text/plain": [
       "<Figure size 1440x720 with 1 Axes>"
      ]
     },
     "metadata": {},
     "output_type": "display_data"
    }
   ],
   "source": [
    "fig, ax= plt.subplots(figsize=(20,10))\n",
    "locationreviewfig = sns.barplot(x='zipcode',y='review_scores_location_x',hue='neighbourhood_group_cleansed', data =result)\n",
    "sns.set(style=\"whitegrid\")\n",
    "plt.xlabel(\"Zipcode\")\n",
    "plt.ylabel(\"reviews for the Location\")\n",
    "plt.title(\"Review on Location Analysis\")\n",
    "plt.show(locationreviewfig)"
   ]
  },
  {
   "cell_type": "markdown",
   "metadata": {},
   "source": [
    "## II. 7 - ROI Analysis  "
   ]
  },
  {
   "cell_type": "markdown",
   "metadata": {},
   "source": [
    "Return on investment (ROI) is an accounting term that indicates the percentage of invested money that's recouped after the deduction of associated costs.\n",
    "\n",
    "Here, since we are acquiring the property with no mortgage or intereste, those cost and all miscellaneous costs are not considered (No sufficient data). Also, we analyse using the one night revenue. \n",
    "\n",
    "        ROI = (Price per night * Occupancy rate * 365) / Cost of Acquiring \n",
    "        \n",
    "High ROI is always prefered"
   ]
  },
  {
   "cell_type": "code",
   "execution_count": 237,
   "metadata": {},
   "outputs": [],
   "source": [
    "result['ROI']= ((result['price_x']*365*result['occupancyrate_x'])/(result['2017-06_x']))"
   ]
  },
  {
   "cell_type": "code",
   "execution_count": 238,
   "metadata": {},
   "outputs": [
    {
     "data": {
      "image/png": "[encoded data removed]",
      "text/plain": [
       "<Figure size 1440x720 with 1 Axes>"
      ]
     },
     "metadata": {},
     "output_type": "display_data"
    }
   ],
   "source": [
    "fig, ax= plt.subplots(figsize=(20,10))\n",
    "roifig = sns.barplot(x='zipcode',y='ROI',hue='neighbourhood_group_cleansed', data =result)\n",
    "sns.set(style=\"whitegrid\")\n",
    "plt.xlabel(\"Zipcode\")\n",
    "plt.ylabel(\"Return of Investment(ROI)\")\n",
    "plt.title(\"Return of Investment (ROI) Analysis\")\n",
    "plt.show(roifig)"
   ]
  },
  {
   "cell_type": "markdown",
   "metadata": {},
   "source": [
    "#### Break Even Period  "
   ]
  },
  {
   "cell_type": "markdown",
   "metadata": {},
   "source": [
    "It is the reciprocal of ROI. It will let us know the details on when (In Years) we can actually get back our investment and further on it would be pure profit. \n",
    "\n",
    "Lesser the Break even period is more preferred. \n",
    "\n",
    "But ROI and Break even period are both the same things. So, we use ROI forthe analysis. \n",
    "\n",
    "Break even period will help us in realizing in how many years the investor could actually obtain his profit"
   ]
  },
  {
   "cell_type": "code",
   "execution_count": 239,
   "metadata": {},
   "outputs": [
    {
     "data": {
      "image/png": "[encoded data removed]",
      "text/plain": [
       "<Figure size 1440x720 with 1 Axes>"
      ]
     },
     "metadata": {},
     "output_type": "display_data"
    }
   ],
   "source": [
    "result['breakeven'] = 1 / ((result['price_x']*365*result['occupancyrate_x'])/(result['2017-06_x']))\n",
    "\n",
    "fig, ax= plt.subplots(figsize=(20,10))\n",
    "breakevenfig = sns.barplot(x='zipcode',y='breakeven',hue='neighbourhood_group_cleansed', data =result)\n",
    "sns.set(style=\"whitegrid\")\n",
    "plt.xlabel(\"Zipcode\")\n",
    "plt.ylabel(\"Number of years\")\n",
    "plt.title(\"Break Even Period Analysis\")\n",
    "plt.show(breakevenfig)"
   ]
  },
  {
   "cell_type": "markdown",
   "metadata": {},
   "source": [
    "## II. 8 - One Percent Rule "
   ]
  },
  {
   "cell_type": "markdown",
   "metadata": {},
   "source": [
    "This is one of the basic calculation to see whether to invest in a property. \n",
    "\n",
    "If an investment is not yielding you atleast one percent of your investment per month, then there is no point in buying the property. But the main uderlying principle behind this is that, at most of the times, people will make an investment, by mortgaging and they need to pay the interest. \n",
    "\n",
    "This interest will atleast be the one percent of the investment every month. This is the reason why one percent rule is applicable. But here, in our case, we have no mortgaging. Yet, this is still a better measure, which is addressed later. "
   ]
  },
  {
   "cell_type": "code",
   "execution_count": 240,
   "metadata": {},
   "outputs": [
    {
     "data": {
      "text/html": [
       "<div>\n",
       "<style scoped>\n",
       "    .dataframe tbody tr th:only-of-type {\n",
       "        vertical-align: middle;\n",
       "    }\n",
       "\n",
       "    .dataframe tbody tr th {\n",
       "        vertical-align: top;\n",
       "    }\n",
       "\n",
       "    .dataframe thead th {\n",
       "        text-align: right;\n",
       "    }\n",
       "</style>\n",
       "<table border=\"1\" class=\"dataframe\">\n",
       "  <thead>\n",
       "    <tr style=\"text-align: right;\">\n",
       "      <th></th>\n",
       "      <th>zipcode</th>\n",
       "      <th>price_x</th>\n",
       "      <th>2017-06_x</th>\n",
       "      <th>review_scores_location_x</th>\n",
       "      <th>occupancyrate_x</th>\n",
       "      <th>number_of_reviews_x</th>\n",
       "      <th>id</th>\n",
       "      <th>listing_url</th>\n",
       "      <th>scrape_id</th>\n",
       "      <th>last_scraped</th>\n",
       "      <th>...</th>\n",
       "      <th>2017-03</th>\n",
       "      <th>2017-04</th>\n",
       "      <th>2017-05</th>\n",
       "      <th>2017-06_y</th>\n",
       "      <th>occupancyrate_y</th>\n",
       "      <th>ROI</th>\n",
       "      <th>breakeven</th>\n",
       "      <th>onemonth</th>\n",
       "      <th>onemonthpercent</th>\n",
       "      <th>onemonthpercent_x</th>\n",
       "    </tr>\n",
       "  </thead>\n",
       "  <tbody>\n",
       "    <tr>\n",
       "      <th>702</th>\n",
       "      <td>10312</td>\n",
       "      <td>215.0</td>\n",
       "      <td>355000</td>\n",
       "      <td>0.0</td>\n",
       "      <td>0.753425</td>\n",
       "      <td>0</td>\n",
       "      <td>18004336</td>\n",
       "      <td>https://www.airbnb.com/rooms/18004336</td>\n",
       "      <td>2.017050e+13</td>\n",
       "      <td>5/5/2017</td>\n",
       "      <td>...</td>\n",
       "      <td>345000</td>\n",
       "      <td>348400</td>\n",
       "      <td>351700</td>\n",
       "      <td>355000</td>\n",
       "      <td>0.753425</td>\n",
       "      <td>0.166549</td>\n",
       "      <td>6.004228</td>\n",
       "      <td>4859.589041</td>\n",
       "      <td>0.013689</td>\n",
       "      <td>0.013689</td>\n",
       "    </tr>\n",
       "  </tbody>\n",
       "</table>\n",
       "<p>1 rows × 367 columns</p>\n",
       "</div>"
      ],
      "text/plain": [
       "     zipcode  price_x  2017-06_x  review_scores_location_x  occupancyrate_x  \\\n",
       "702    10312    215.0     355000                       0.0         0.753425   \n",
       "\n",
       "     number_of_reviews_x        id                            listing_url  \\\n",
       "702                    0  18004336  https://www.airbnb.com/rooms/18004336   \n",
       "\n",
       "        scrape_id last_scraped        ...        2017-03 2017-04 2017-05  \\\n",
       "702  2.017050e+13     5/5/2017        ...         345000  348400  351700   \n",
       "\n",
       "    2017-06_y occupancyrate_y       ROI breakeven     onemonth  \\\n",
       "702    355000        0.753425  0.166549  6.004228  4859.589041   \n",
       "\n",
       "    onemonthpercent onemonthpercent_x  \n",
       "702        0.013689          0.013689  \n",
       "\n",
       "[1 rows x 367 columns]"
      ]
     },
     "execution_count": 240,
     "metadata": {},
     "output_type": "execute_result"
    }
   ],
   "source": [
    "# One Month Reveue\n",
    "result['onemonth']= (result['price_x']*30*result['occupancyrate_x'])\n",
    "\n",
    "# Percentage Calculation\n",
    "result['onemonthpercent']= (result['onemonth']/result['2017-06_x'])\n",
    "result['onemonthpercent_x']= result['onemonthpercent']\n",
    "\n",
    "# Visualize Zip that satisfies One Percent Rule \n",
    "result[result.onemonthpercent>0.01]"
   ]
  },
  {
   "cell_type": "code",
   "execution_count": 241,
   "metadata": {},
   "outputs": [
    {
     "data": {
      "image/png": "[encoded data removed]",
      "text/plain": [
       "<Figure size 1440x720 with 1 Axes>"
      ]
     },
     "metadata": {},
     "output_type": "display_data"
    }
   ],
   "source": [
    "fig, ax= plt.subplots(figsize=(20,10))\n",
    "ax.axhline(0.01, color=\"blue\")\n",
    "onepercentfig = sns.barplot(x='zipcode',y='onemonthpercent',hue='neighbourhood_group_cleansed', data =result, ci =1, errcolor='k')\n",
    "plt.xlabel(\"Zipcode\")\n",
    "plt.ylabel(\"Percentage of income relative to the investment for one Month\")\n",
    "plt.title(\"One Percent Rule Analysis\")\n",
    "plt.show(onepercentfig)"
   ]
  },
  {
   "cell_type": "markdown",
   "metadata": {},
   "source": [
    "## II. 9 - Cumulating All Analysis"
   ]
  },
  {
   "cell_type": "markdown",
   "metadata": {},
   "source": [
    "### Giving Rank to Zipcode for all Analysis and Choosing the best location "
   ]
  },
  {
   "cell_type": "markdown",
   "metadata": {},
   "source": [
    "With the above all preliminary analysis, we have got various different opinion on which could be better on different terms. \n",
    "\n",
    "So, we need a measure to cumulate all the results to look at the most profitable investment. \n",
    "\n",
    "Here, I have ranked the zipcodes for every other analysis (Price, Cost, Occupancy, ROI, Location Reviews, Number of reviews), the best value is given the minimal rank (Rank 1), and the worst the highest. \n",
    "\n",
    "So, when we aggregate using mean, the most minimal rank will be our winner. "
   ]
  },
  {
   "cell_type": "code",
   "execution_count": 242,
   "metadata": {},
   "outputs": [
    {
     "data": {
      "text/html": [
       "<div>\n",
       "<style scoped>\n",
       "    .dataframe tbody tr th:only-of-type {\n",
       "        vertical-align: middle;\n",
       "    }\n",
       "\n",
       "    .dataframe tbody tr th {\n",
       "        vertical-align: top;\n",
       "    }\n",
       "\n",
       "    .dataframe thead th {\n",
       "        text-align: right;\n",
       "    }\n",
       "</style>\n",
       "<table border=\"1\" class=\"dataframe\">\n",
       "  <thead>\n",
       "    <tr style=\"text-align: right;\">\n",
       "      <th></th>\n",
       "      <th>zipcode</th>\n",
       "      <th>2017-06_x</th>\n",
       "      <th>price_x</th>\n",
       "      <th>number_of_reviews_x</th>\n",
       "      <th>review_scores_location_x</th>\n",
       "      <th>occupancyrate_x</th>\n",
       "      <th>ROI</th>\n",
       "      <th>Cost Price Rank</th>\n",
       "      <th>Revenue Price Rank</th>\n",
       "      <th>Number of Reviews</th>\n",
       "      <th>Location Review Score</th>\n",
       "      <th>Occupancy Rate Score</th>\n",
       "      <th>ROI Rank</th>\n",
       "      <th>Total Rank Score</th>\n",
       "    </tr>\n",
       "  </thead>\n",
       "  <tbody>\n",
       "    <tr>\n",
       "      <th>0</th>\n",
       "      <td>10003</td>\n",
       "      <td>2147000</td>\n",
       "      <td>310.814159</td>\n",
       "      <td>3153</td>\n",
       "      <td>9.833333</td>\n",
       "      <td>0.631349</td>\n",
       "      <td>0.033360</td>\n",
       "      <td>18.0</td>\n",
       "      <td>6.0</td>\n",
       "      <td>1.0</td>\n",
       "      <td>5.0</td>\n",
       "      <td>14.0</td>\n",
       "      <td>16.0</td>\n",
       "      <td>10.000000</td>\n",
       "    </tr>\n",
       "    <tr>\n",
       "      <th>1</th>\n",
       "      <td>10011</td>\n",
       "      <td>2480400</td>\n",
       "      <td>363.586207</td>\n",
       "      <td>1188</td>\n",
       "      <td>9.880000</td>\n",
       "      <td>0.645347</td>\n",
       "      <td>0.034528</td>\n",
       "      <td>19.0</td>\n",
       "      <td>4.0</td>\n",
       "      <td>5.0</td>\n",
       "      <td>3.0</td>\n",
       "      <td>13.0</td>\n",
       "      <td>14.0</td>\n",
       "      <td>9.666667</td>\n",
       "    </tr>\n",
       "    <tr>\n",
       "      <th>2</th>\n",
       "      <td>10013</td>\n",
       "      <td>3316500</td>\n",
       "      <td>389.843750</td>\n",
       "      <td>912</td>\n",
       "      <td>9.738095</td>\n",
       "      <td>0.577954</td>\n",
       "      <td>0.024797</td>\n",
       "      <td>21.0</td>\n",
       "      <td>2.0</td>\n",
       "      <td>10.0</td>\n",
       "      <td>7.0</td>\n",
       "      <td>15.0</td>\n",
       "      <td>19.0</td>\n",
       "      <td>12.333333</td>\n",
       "    </tr>\n",
       "    <tr>\n",
       "      <th>3</th>\n",
       "      <td>10014</td>\n",
       "      <td>2491600</td>\n",
       "      <td>325.290323</td>\n",
       "      <td>1452</td>\n",
       "      <td>9.947368</td>\n",
       "      <td>0.682044</td>\n",
       "      <td>0.032501</td>\n",
       "      <td>20.0</td>\n",
       "      <td>5.0</td>\n",
       "      <td>4.0</td>\n",
       "      <td>1.0</td>\n",
       "      <td>11.0</td>\n",
       "      <td>18.0</td>\n",
       "      <td>9.833333</td>\n",
       "    </tr>\n",
       "    <tr>\n",
       "      <th>4</th>\n",
       "      <td>10021</td>\n",
       "      <td>1815600</td>\n",
       "      <td>273.842105</td>\n",
       "      <td>300</td>\n",
       "      <td>9.428571</td>\n",
       "      <td>0.839654</td>\n",
       "      <td>0.046225</td>\n",
       "      <td>14.0</td>\n",
       "      <td>9.0</td>\n",
       "      <td>13.0</td>\n",
       "      <td>17.0</td>\n",
       "      <td>2.0</td>\n",
       "      <td>7.0</td>\n",
       "      <td>10.333333</td>\n",
       "    </tr>\n",
       "    <tr>\n",
       "      <th>5</th>\n",
       "      <td>10022</td>\n",
       "      <td>2031600</td>\n",
       "      <td>367.289474</td>\n",
       "      <td>983</td>\n",
       "      <td>9.483871</td>\n",
       "      <td>0.561788</td>\n",
       "      <td>0.037071</td>\n",
       "      <td>15.0</td>\n",
       "      <td>3.0</td>\n",
       "      <td>9.0</td>\n",
       "      <td>16.0</td>\n",
       "      <td>16.0</td>\n",
       "      <td>13.0</td>\n",
       "      <td>12.000000</td>\n",
       "    </tr>\n",
       "    <tr>\n",
       "      <th>6</th>\n",
       "      <td>10023</td>\n",
       "      <td>2142300</td>\n",
       "      <td>284.698413</td>\n",
       "      <td>871</td>\n",
       "      <td>9.940000</td>\n",
       "      <td>0.703370</td>\n",
       "      <td>0.034118</td>\n",
       "      <td>17.0</td>\n",
       "      <td>8.0</td>\n",
       "      <td>11.0</td>\n",
       "      <td>2.0</td>\n",
       "      <td>10.0</td>\n",
       "      <td>15.0</td>\n",
       "      <td>10.500000</td>\n",
       "    </tr>\n",
       "    <tr>\n",
       "      <th>7</th>\n",
       "      <td>10025</td>\n",
       "      <td>1431000</td>\n",
       "      <td>286.000000</td>\n",
       "      <td>1884</td>\n",
       "      <td>9.548780</td>\n",
       "      <td>0.711350</td>\n",
       "      <td>0.051892</td>\n",
       "      <td>11.0</td>\n",
       "      <td>7.0</td>\n",
       "      <td>2.0</td>\n",
       "      <td>13.0</td>\n",
       "      <td>8.0</td>\n",
       "      <td>3.0</td>\n",
       "      <td>7.333333</td>\n",
       "    </tr>\n",
       "    <tr>\n",
       "      <th>8</th>\n",
       "      <td>10028</td>\n",
       "      <td>2083900</td>\n",
       "      <td>270.468750</td>\n",
       "      <td>165</td>\n",
       "      <td>9.722222</td>\n",
       "      <td>0.802740</td>\n",
       "      <td>0.038028</td>\n",
       "      <td>16.0</td>\n",
       "      <td>10.0</td>\n",
       "      <td>15.0</td>\n",
       "      <td>8.0</td>\n",
       "      <td>3.0</td>\n",
       "      <td>12.0</td>\n",
       "      <td>10.666667</td>\n",
       "    </tr>\n",
       "    <tr>\n",
       "      <th>9</th>\n",
       "      <td>10036</td>\n",
       "      <td>1712900</td>\n",
       "      <td>445.666667</td>\n",
       "      <td>195</td>\n",
       "      <td>9.500000</td>\n",
       "      <td>0.487671</td>\n",
       "      <td>0.046312</td>\n",
       "      <td>12.0</td>\n",
       "      <td>1.0</td>\n",
       "      <td>14.0</td>\n",
       "      <td>14.5</td>\n",
       "      <td>18.0</td>\n",
       "      <td>6.0</td>\n",
       "      <td>10.916667</td>\n",
       "    </tr>\n",
       "    <tr>\n",
       "      <th>10</th>\n",
       "      <td>10128</td>\n",
       "      <td>1787100</td>\n",
       "      <td>225.375000</td>\n",
       "      <td>403</td>\n",
       "      <td>9.627907</td>\n",
       "      <td>0.708072</td>\n",
       "      <td>0.032593</td>\n",
       "      <td>13.0</td>\n",
       "      <td>11.0</td>\n",
       "      <td>12.0</td>\n",
       "      <td>10.0</td>\n",
       "      <td>9.0</td>\n",
       "      <td>17.0</td>\n",
       "      <td>12.000000</td>\n",
       "    </tr>\n",
       "    <tr>\n",
       "      <th>11</th>\n",
       "      <td>10304</td>\n",
       "      <td>328300</td>\n",
       "      <td>97.000000</td>\n",
       "      <td>2</td>\n",
       "      <td>6.000000</td>\n",
       "      <td>0.916438</td>\n",
       "      <td>0.098832</td>\n",
       "      <td>1.0</td>\n",
       "      <td>20.0</td>\n",
       "      <td>20.0</td>\n",
       "      <td>20.0</td>\n",
       "      <td>1.0</td>\n",
       "      <td>2.0</td>\n",
       "      <td>10.666667</td>\n",
       "    </tr>\n",
       "    <tr>\n",
       "      <th>12</th>\n",
       "      <td>10305</td>\n",
       "      <td>425100</td>\n",
       "      <td>111.222222</td>\n",
       "      <td>42</td>\n",
       "      <td>9.600000</td>\n",
       "      <td>0.538508</td>\n",
       "      <td>0.051426</td>\n",
       "      <td>5.0</td>\n",
       "      <td>18.0</td>\n",
       "      <td>18.5</td>\n",
       "      <td>12.0</td>\n",
       "      <td>17.0</td>\n",
       "      <td>4.0</td>\n",
       "      <td>12.416667</td>\n",
       "    </tr>\n",
       "    <tr>\n",
       "      <th>13</th>\n",
       "      <td>10306</td>\n",
       "      <td>352900</td>\n",
       "      <td>93.000000</td>\n",
       "      <td>143</td>\n",
       "      <td>9.500000</td>\n",
       "      <td>0.400000</td>\n",
       "      <td>0.038475</td>\n",
       "      <td>2.0</td>\n",
       "      <td>21.0</td>\n",
       "      <td>16.0</td>\n",
       "      <td>14.5</td>\n",
       "      <td>19.0</td>\n",
       "      <td>11.0</td>\n",
       "      <td>13.916667</td>\n",
       "    </tr>\n",
       "    <tr>\n",
       "      <th>14</th>\n",
       "      <td>10312</td>\n",
       "      <td>355000</td>\n",
       "      <td>215.000000</td>\n",
       "      <td>0</td>\n",
       "      <td>0.000000</td>\n",
       "      <td>0.753425</td>\n",
       "      <td>0.166549</td>\n",
       "      <td>3.0</td>\n",
       "      <td>12.0</td>\n",
       "      <td>21.0</td>\n",
       "      <td>21.0</td>\n",
       "      <td>6.0</td>\n",
       "      <td>1.0</td>\n",
       "      <td>10.666667</td>\n",
       "    </tr>\n",
       "    <tr>\n",
       "      <th>15</th>\n",
       "      <td>11201</td>\n",
       "      <td>1420700</td>\n",
       "      <td>208.629032</td>\n",
       "      <td>1161</td>\n",
       "      <td>9.869565</td>\n",
       "      <td>0.749448</td>\n",
       "      <td>0.040170</td>\n",
       "      <td>10.0</td>\n",
       "      <td>13.0</td>\n",
       "      <td>6.0</td>\n",
       "      <td>4.0</td>\n",
       "      <td>7.0</td>\n",
       "      <td>9.0</td>\n",
       "      <td>8.166667</td>\n",
       "    </tr>\n",
       "    <tr>\n",
       "      <th>16</th>\n",
       "      <td>11215</td>\n",
       "      <td>1070800</td>\n",
       "      <td>177.685484</td>\n",
       "      <td>1674</td>\n",
       "      <td>9.689320</td>\n",
       "      <td>0.774724</td>\n",
       "      <td>0.046923</td>\n",
       "      <td>7.0</td>\n",
       "      <td>16.0</td>\n",
       "      <td>3.0</td>\n",
       "      <td>9.0</td>\n",
       "      <td>4.0</td>\n",
       "      <td>5.0</td>\n",
       "      <td>7.333333</td>\n",
       "    </tr>\n",
       "    <tr>\n",
       "      <th>17</th>\n",
       "      <td>11217</td>\n",
       "      <td>1302300</td>\n",
       "      <td>203.116667</td>\n",
       "      <td>1042</td>\n",
       "      <td>9.764706</td>\n",
       "      <td>0.755434</td>\n",
       "      <td>0.043005</td>\n",
       "      <td>9.0</td>\n",
       "      <td>14.0</td>\n",
       "      <td>8.0</td>\n",
       "      <td>6.0</td>\n",
       "      <td>5.0</td>\n",
       "      <td>8.0</td>\n",
       "      <td>8.333333</td>\n",
       "    </tr>\n",
       "    <tr>\n",
       "      <th>18</th>\n",
       "      <td>11231</td>\n",
       "      <td>1202900</td>\n",
       "      <td>200.536232</td>\n",
       "      <td>1076</td>\n",
       "      <td>9.627451</td>\n",
       "      <td>0.647171</td>\n",
       "      <td>0.039380</td>\n",
       "      <td>8.0</td>\n",
       "      <td>15.0</td>\n",
       "      <td>7.0</td>\n",
       "      <td>11.0</td>\n",
       "      <td>12.0</td>\n",
       "      <td>10.0</td>\n",
       "      <td>10.500000</td>\n",
       "    </tr>\n",
       "    <tr>\n",
       "      <th>19</th>\n",
       "      <td>11234</td>\n",
       "      <td>476900</td>\n",
       "      <td>107.333333</td>\n",
       "      <td>83</td>\n",
       "      <td>9.000000</td>\n",
       "      <td>0.110502</td>\n",
       "      <td>0.009078</td>\n",
       "      <td>6.0</td>\n",
       "      <td>19.0</td>\n",
       "      <td>17.0</td>\n",
       "      <td>18.5</td>\n",
       "      <td>20.0</td>\n",
       "      <td>20.0</td>\n",
       "      <td>16.750000</td>\n",
       "    </tr>\n",
       "    <tr>\n",
       "      <th>20</th>\n",
       "      <td>11434</td>\n",
       "      <td>382300</td>\n",
       "      <td>155.000000</td>\n",
       "      <td>42</td>\n",
       "      <td>9.000000</td>\n",
       "      <td>0.046575</td>\n",
       "      <td>0.006892</td>\n",
       "      <td>4.0</td>\n",
       "      <td>17.0</td>\n",
       "      <td>18.5</td>\n",
       "      <td>18.5</td>\n",
       "      <td>21.0</td>\n",
       "      <td>21.0</td>\n",
       "      <td>16.666667</td>\n",
       "    </tr>\n",
       "  </tbody>\n",
       "</table>\n",
       "</div>"
      ],
      "text/plain": [
       "    zipcode  2017-06_x     price_x  number_of_reviews_x  \\\n",
       "0     10003    2147000  310.814159                 3153   \n",
       "1     10011    2480400  363.586207                 1188   \n",
       "2     10013    3316500  389.843750                  912   \n",
       "3     10014    2491600  325.290323                 1452   \n",
       "4     10021    1815600  273.842105                  300   \n",
       "5     10022    2031600  367.289474                  983   \n",
       "6     10023    2142300  284.698413                  871   \n",
       "7     10025    1431000  286.000000                 1884   \n",
       "8     10028    2083900  270.468750                  165   \n",
       "9     10036    1712900  445.666667                  195   \n",
       "10    10128    1787100  225.375000                  403   \n",
       "11    10304     328300   97.000000                    2   \n",
       "12    10305     425100  111.222222                   42   \n",
       "13    10306     352900   93.000000                  143   \n",
       "14    10312     355000  215.000000                    0   \n",
       "15    11201    1420700  208.629032                 1161   \n",
       "16    11215    1070800  177.685484                 1674   \n",
       "17    11217    1302300  203.116667                 1042   \n",
       "18    11231    1202900  200.536232                 1076   \n",
       "19    11234     476900  107.333333                   83   \n",
       "20    11434     382300  155.000000                   42   \n",
       "\n",
       "    review_scores_location_x  occupancyrate_x       ROI  Cost Price Rank  \\\n",
       "0                   9.833333         0.631349  0.033360             18.0   \n",
       "1                   9.880000         0.645347  0.034528             19.0   \n",
       "2                   9.738095         0.577954  0.024797             21.0   \n",
       "3                   9.947368         0.682044  0.032501             20.0   \n",
       "4                   9.428571         0.839654  0.046225             14.0   \n",
       "5                   9.483871         0.561788  0.037071             15.0   \n",
       "6                   9.940000         0.703370  0.034118             17.0   \n",
       "7                   9.548780         0.711350  0.051892             11.0   \n",
       "8                   9.722222         0.802740  0.038028             16.0   \n",
       "9                   9.500000         0.487671  0.046312             12.0   \n",
       "10                  9.627907         0.708072  0.032593             13.0   \n",
       "11                  6.000000         0.916438  0.098832              1.0   \n",
       "12                  9.600000         0.538508  0.051426              5.0   \n",
       "13                  9.500000         0.400000  0.038475              2.0   \n",
       "14                  0.000000         0.753425  0.166549              3.0   \n",
       "15                  9.869565         0.749448  0.040170             10.0   \n",
       "16                  9.689320         0.774724  0.046923              7.0   \n",
       "17                  9.764706         0.755434  0.043005              9.0   \n",
       "18                  9.627451         0.647171  0.039380              8.0   \n",
       "19                  9.000000         0.110502  0.009078              6.0   \n",
       "20                  9.000000         0.046575  0.006892              4.0   \n",
       "\n",
       "    Revenue Price Rank  Number of Reviews  Location Review Score  \\\n",
       "0                  6.0                1.0                    5.0   \n",
       "1                  4.0                5.0                    3.0   \n",
       "2                  2.0               10.0                    7.0   \n",
       "3                  5.0                4.0                    1.0   \n",
       "4                  9.0               13.0                   17.0   \n",
       "5                  3.0                9.0                   16.0   \n",
       "6                  8.0               11.0                    2.0   \n",
       "7                  7.0                2.0                   13.0   \n",
       "8                 10.0               15.0                    8.0   \n",
       "9                  1.0               14.0                   14.5   \n",
       "10                11.0               12.0                   10.0   \n",
       "11                20.0               20.0                   20.0   \n",
       "12                18.0               18.5                   12.0   \n",
       "13                21.0               16.0                   14.5   \n",
       "14                12.0               21.0                   21.0   \n",
       "15                13.0                6.0                    4.0   \n",
       "16                16.0                3.0                    9.0   \n",
       "17                14.0                8.0                    6.0   \n",
       "18                15.0                7.0                   11.0   \n",
       "19                19.0               17.0                   18.5   \n",
       "20                17.0               18.5                   18.5   \n",
       "\n",
       "    Occupancy Rate Score  ROI Rank  Total Rank Score  \n",
       "0                   14.0      16.0         10.000000  \n",
       "1                   13.0      14.0          9.666667  \n",
       "2                   15.0      19.0         12.333333  \n",
       "3                   11.0      18.0          9.833333  \n",
       "4                    2.0       7.0         10.333333  \n",
       "5                   16.0      13.0         12.000000  \n",
       "6                   10.0      15.0         10.500000  \n",
       "7                    8.0       3.0          7.333333  \n",
       "8                    3.0      12.0         10.666667  \n",
       "9                   18.0       6.0         10.916667  \n",
       "10                   9.0      17.0         12.000000  \n",
       "11                   1.0       2.0         10.666667  \n",
       "12                  17.0       4.0         12.416667  \n",
       "13                  19.0      11.0         13.916667  \n",
       "14                   6.0       1.0         10.666667  \n",
       "15                   7.0       9.0          8.166667  \n",
       "16                   4.0       5.0          7.333333  \n",
       "17                   5.0       8.0          8.333333  \n",
       "18                  12.0      10.0         10.500000  \n",
       "19                  20.0      20.0         16.750000  \n",
       "20                  21.0      21.0         16.666667  "
      ]
     },
     "execution_count": 242,
     "metadata": {},
     "output_type": "execute_result"
    }
   ],
   "source": [
    "# Groupby zipcode\n",
    "rank=result.groupby('zipcode')\n",
    "\n",
    "# Considering the parameters of Interest \n",
    "rank1=rank[['2017-06_x', 'price_x', 'number_of_reviews_x', 'review_scores_location_x', 'occupancyrate_x','ROI']].mean()\n",
    "\n",
    "# Setting IndexO\n",
    "rank1=rank1.reset_index()\n",
    "\n",
    "# Giving Ranks\n",
    "rank1['Cost Price Rank'] = rank1['2017-06_x'].rank(ascending=True)\n",
    "rank1['Revenue Price Rank'] = rank1['price_x'].rank(ascending=False)\n",
    "rank1['Number of Reviews'] = rank1['number_of_reviews_x'].rank(ascending=False)\n",
    "rank1['Location Review Score'] = rank1['review_scores_location_x'].rank(ascending=False)\n",
    "rank1['Occupancy Rate Score'] = rank1['occupancyrate_x'].rank(ascending=False)\n",
    "rank1['ROI Rank'] = rank1['ROI'].rank(ascending=False)\n",
    "\n",
    "# Total Rank\n",
    "rank1 ['Total Rank Score'] = (rank1['Cost Price Rank']+ rank1['Revenue Price Rank'] + rank1['Number of Reviews'] + rank1['Location Review Score']+ rank1['ROI Rank'] + rank1['Occupancy Rate Score'])/6\n",
    "\n",
    "# Merge Rank1 to Main Table \n",
    "result = rank1.merge(result, how='left', on='zipcode')\n",
    "\n",
    "# Visualize Rank1\n",
    "rank1"
   ]
  },
  {
   "cell_type": "code",
   "execution_count": 243,
   "metadata": {},
   "outputs": [
    {
     "data": {
      "image/png": "[encoded data removed]",
      "text/plain": [
       "<Figure size 1440x720 with 1 Axes>"
      ]
     },
     "metadata": {},
     "output_type": "display_data"
    }
   ],
   "source": [
    "fig, ax= plt.subplots(figsize=(20,10))\n",
    "rankfig = sns.barplot(x='zipcode',y='Total Rank Score',hue='neighbourhood_group_cleansed', data =result)\n",
    "sns.set(style=\"whitegrid\")\n",
    "plt.xlabel(\"Zipcode\")\n",
    "plt.ylabel(\"Cumulative Rank\")\n",
    "plt.title(\"Cumulative Analysis based on Rank\")\n",
    "plt.show(rankfig)"
   ]
  },
  {
   "cell_type": "code",
   "execution_count": 244,
   "metadata": {},
   "outputs": [
    {
     "data": {
      "text/html": [
       "<div>\n",
       "<style scoped>\n",
       "    .dataframe tbody tr th:only-of-type {\n",
       "        vertical-align: middle;\n",
       "    }\n",
       "\n",
       "    .dataframe tbody tr th {\n",
       "        vertical-align: top;\n",
       "    }\n",
       "\n",
       "    .dataframe thead th {\n",
       "        text-align: right;\n",
       "    }\n",
       "</style>\n",
       "<table border=\"1\" class=\"dataframe\">\n",
       "  <thead>\n",
       "    <tr style=\"text-align: right;\">\n",
       "      <th></th>\n",
       "      <th>zipcode</th>\n",
       "      <th>Total Rank Score</th>\n",
       "    </tr>\n",
       "  </thead>\n",
       "  <tbody>\n",
       "    <tr>\n",
       "      <th>7</th>\n",
       "      <td>10025</td>\n",
       "      <td>7.333333</td>\n",
       "    </tr>\n",
       "    <tr>\n",
       "      <th>16</th>\n",
       "      <td>11215</td>\n",
       "      <td>7.333333</td>\n",
       "    </tr>\n",
       "    <tr>\n",
       "      <th>15</th>\n",
       "      <td>11201</td>\n",
       "      <td>8.166667</td>\n",
       "    </tr>\n",
       "    <tr>\n",
       "      <th>17</th>\n",
       "      <td>11217</td>\n",
       "      <td>8.333333</td>\n",
       "    </tr>\n",
       "    <tr>\n",
       "      <th>1</th>\n",
       "      <td>10011</td>\n",
       "      <td>9.666667</td>\n",
       "    </tr>\n",
       "    <tr>\n",
       "      <th>3</th>\n",
       "      <td>10014</td>\n",
       "      <td>9.833333</td>\n",
       "    </tr>\n",
       "    <tr>\n",
       "      <th>0</th>\n",
       "      <td>10003</td>\n",
       "      <td>10.000000</td>\n",
       "    </tr>\n",
       "    <tr>\n",
       "      <th>4</th>\n",
       "      <td>10021</td>\n",
       "      <td>10.333333</td>\n",
       "    </tr>\n",
       "    <tr>\n",
       "      <th>18</th>\n",
       "      <td>11231</td>\n",
       "      <td>10.500000</td>\n",
       "    </tr>\n",
       "    <tr>\n",
       "      <th>6</th>\n",
       "      <td>10023</td>\n",
       "      <td>10.500000</td>\n",
       "    </tr>\n",
       "    <tr>\n",
       "      <th>11</th>\n",
       "      <td>10304</td>\n",
       "      <td>10.666667</td>\n",
       "    </tr>\n",
       "    <tr>\n",
       "      <th>14</th>\n",
       "      <td>10312</td>\n",
       "      <td>10.666667</td>\n",
       "    </tr>\n",
       "    <tr>\n",
       "      <th>8</th>\n",
       "      <td>10028</td>\n",
       "      <td>10.666667</td>\n",
       "    </tr>\n",
       "    <tr>\n",
       "      <th>9</th>\n",
       "      <td>10036</td>\n",
       "      <td>10.916667</td>\n",
       "    </tr>\n",
       "    <tr>\n",
       "      <th>10</th>\n",
       "      <td>10128</td>\n",
       "      <td>12.000000</td>\n",
       "    </tr>\n",
       "    <tr>\n",
       "      <th>5</th>\n",
       "      <td>10022</td>\n",
       "      <td>12.000000</td>\n",
       "    </tr>\n",
       "    <tr>\n",
       "      <th>2</th>\n",
       "      <td>10013</td>\n",
       "      <td>12.333333</td>\n",
       "    </tr>\n",
       "    <tr>\n",
       "      <th>12</th>\n",
       "      <td>10305</td>\n",
       "      <td>12.416667</td>\n",
       "    </tr>\n",
       "    <tr>\n",
       "      <th>13</th>\n",
       "      <td>10306</td>\n",
       "      <td>13.916667</td>\n",
       "    </tr>\n",
       "    <tr>\n",
       "      <th>20</th>\n",
       "      <td>11434</td>\n",
       "      <td>16.666667</td>\n",
       "    </tr>\n",
       "    <tr>\n",
       "      <th>19</th>\n",
       "      <td>11234</td>\n",
       "      <td>16.750000</td>\n",
       "    </tr>\n",
       "  </tbody>\n",
       "</table>\n",
       "</div>"
      ],
      "text/plain": [
       "    zipcode  Total Rank Score\n",
       "7     10025          7.333333\n",
       "16    11215          7.333333\n",
       "15    11201          8.166667\n",
       "17    11217          8.333333\n",
       "1     10011          9.666667\n",
       "3     10014          9.833333\n",
       "0     10003         10.000000\n",
       "4     10021         10.333333\n",
       "18    11231         10.500000\n",
       "6     10023         10.500000\n",
       "11    10304         10.666667\n",
       "14    10312         10.666667\n",
       "8     10028         10.666667\n",
       "9     10036         10.916667\n",
       "10    10128         12.000000\n",
       "5     10022         12.000000\n",
       "2     10013         12.333333\n",
       "12    10305         12.416667\n",
       "13    10306         13.916667\n",
       "20    11434         16.666667\n",
       "19    11234         16.750000"
      ]
     },
     "execution_count": 244,
     "metadata": {},
     "output_type": "execute_result"
    }
   ],
   "source": [
    "# Groupby zipcode\n",
    "final=result.groupby('zipcode')\n",
    "\n",
    "# Considering the parameters of Interest \n",
    "best =final[['Total Rank Score']].mean()\n",
    "\n",
    "# Setting Index\n",
    "best=best.reset_index()\n",
    "\n",
    "# Top 5 Zipcodes to Invest based on the rank\n",
    "best.sort_values('Total Rank Score', ascending = True)"
   ]
  },
  {
   "cell_type": "markdown",
   "metadata": {},
   "source": [
    "# IV. Conclusion and Recommendations "
   ]
  },
  {
   "cell_type": "markdown",
   "metadata": {},
   "source": [
    "According to the Cumulative rank, we can see that the zip codes 10025 and 11215 are more profitable than any other. \n",
    "\n",
    "But, if we are okay to take risk, it is possible to consider 10312 as well. This is because, the only place the zipcode 10312 fails is with the lack of reviews and lack of reviews about the locations. \n",
    "\n",
    "10312 has lower investment, higher revenue relative to the investment. It has a descent value of occupancy rate as well. But the fact that it will just fail in the review genre, doesnt make it a bad investment. \n",
    "\n",
    "10312 is the only zipcode that passess in One Percent rule test as well. So, 10312 is also a zipcode that the investor might want to consider. \n",
    "\n",
    "Similarly, 10304 is another zipcode, that fails terribly in the reviews. But has the highest occupancy rate. So, for the cost and revenue, relatively, this is not another option that should be ruled out. The number of properties in 10304 is very very less but has higher demand. So, investing 10304 is one other options, and ruling it out just because it failed in Reviews, doesn't make sense. \n",
    "\n",
    "So, (10025, 11215, 10312, 10304) are the possible suggested zipcodes, and it is necessary to discuss with the investor as the final decision is purely dependent on amount of risk the investor is ready to take. \n",
    "\n",
    "As said initially, \n",
    "\n",
    "There could be two interpretation\n",
    "    1. Invest where not much people have ventured (High Risk, yet could be more profitable) - 10312, 10304\n",
    "    2. Invest where every one has already done (Could be sophisticated with less risk and although not high profit, still profitable) - 10025, 11215\n",
    "    \n"
   ]
  },
  {
   "cell_type": "markdown",
   "metadata": {},
   "source": [
    "# V. Further Suggestion for Model Improvization "
   ]
  },
  {
   "cell_type": "markdown",
   "metadata": {},
   "source": [
    "# What's Next?"
   ]
  },
  {
   "cell_type": "markdown",
   "metadata": {},
   "source": [
    "Reliability of the data - In general, we are unaware of the reliability of the data. As it is all manually entered data, they could be more error prone. We need to check for the reliability of the data. This could be done by collecting more data, from various other sources. \n",
    "\n",
    "Daily rents of the property - The rental details for the property, are given to be a constant value. But ususally, the prices aren't stable and so they fluctuate. For example over any college breaks, or it could have seasonal dependency. So, the price tends to change. \n",
    "\n",
    "Buying Cost of the property - Time series forecasting can be done based on the available data to determine exactly what would be the actual purchasing cost instead of assuming that they are being brought at the cost that was given in the last known period.\n",
    "\n",
    "Selling Price of the property after the break even period - If we have more rhetorical data, we can do time series foreacasting, to predict what would be the selling price (If they wish to seel it after the break even period) - Higher the selling proce more would be better. And here, the necessity for more rhetorical data is because - the break even period is approximately 15 years , and using 10 years of data to predict the next 15th year wont be accurate and reliable \n",
    "\n",
    "Area dependency for the price - We do not have any information about the area of the property (It has got 40186 missing data's). If we are able to get that data, then we can analyze the price based on the area dependencies. Same zipcode with higher area will have higher rent. And of it is available it is possible to categorize the same zipcode based on area and analyze. For example, instead of taking the average of prices of the properties in each zipcode, we can categorize like (0-500 sqft in one category, 500-1000 sqft in another and so on). So apart from knowing where to invest, also we will know whether ti invest in a bigger property \n",
    "\n",
    "Occupancy - Here, we have used the occupancy rate based on the availability for the next 365 days. But the occupancy rate might just not be dependent on that. We need to have other factors to estimate the real occupancy rate. We can colllect data from other sources to have more accurate Occupancy Rate \n",
    "\n",
    "Host dependency - From the different genres of the data of Airbnb, we have completly neglected the information about the host, because we are not going to deal with these hosts directly. But, the price and occupancy might be highly influential on the categories of data about host. So, we need to use some measure to remove the dependency of the host on price and occuoancy rate\n",
    "\n",
    "Heat map of occupancy rate - If we are able to visualize the occupancy rate on the map of NYC, we can visualize if there are anything around the locality that is highly influencing the occupancy rate. The place around it could have a great scenic view, or there could be high occupancy in downtown. \n",
    "\n",
    "Heat map of number of airbnb properties - Similar to the above mentioned, this will help us to visualize if there are anything specific to the surroundings that is influencing people to have more properties around them. \n",
    "\n",
    "Using Latitude and Longitude to determine the missing zipcodes and misssing zipcodes - Although there are only arpound 720 missing and incorrect zipcodes, replacing it with the help of latitude and longitudes might affect the model and it might help in more accurate visualization \n",
    "\n",
    "Other possible costs needs to be considered - We are just considering the revenue that we can get and not considering the possible expenses like maintainence or Property tax etc. Without this the visualization is never accurate. So, we can collect data on this and use this real time to make more accurate analysis \n",
    "\n"
   ]
  },
  {
   "cell_type": "code",
   "execution_count": null,
   "metadata": {},
   "outputs": [],
   "source": []
  }
 ],
 "metadata": {
  "kernelspec": {
   "display_name": "Python 3",
   "language": "python",
   "name": "python3"
  },
  "language_info": {
   "codemirror_mode": {
    "name": "ipython",
    "version": 3
   },
   "file_extension": ".py",
   "mimetype": "text/x-python",
   "name": "python",
   "nbconvert_exporter": "python",
   "pygments_lexer": "ipython3",
   "version": "3.6.5"
  }
 },
 "nbformat": 4,
 "nbformat_minor": 2
}
